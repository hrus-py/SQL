{
 "cells": [
  {
   "cell_type": "code",
   "execution_count": 1,
   "id": "9d4c8a9c-644f-442d-be80-6313b508e618",
   "metadata": {},
   "outputs": [
    {
     "name": "stdout",
     "output_type": "stream",
     "text": [
      "Opened database successfully\n"
     ]
    }
   ],
   "source": [
    "import pandas as pd\n",
    "import sqlite3\n",
    "conn = sqlite3.connect('test.db')\n",
    "print(\"Opened database successfully\")"
   ]
  },
  {
   "cell_type": "code",
   "execution_count": 2,
   "id": "22f7c050-0edd-4e12-80dd-ef6d395af9f6",
   "metadata": {},
   "outputs": [
    {
     "name": "stdout",
     "output_type": "stream",
     "text": [
      "(1, 'Toy Story', 'John Lasseter', 1995, 81)\n",
      "(2, \"A Bug's Life\", 'John Lasseter', 1998, 95)\n",
      "(3, 'Toy Story 2', 'John Lasseter', 1999, 93)\n",
      "(4, 'Monsters, Inc.', 'Pete Docter', 2001, 92)\n",
      "(5, 'Finding Nemo', 'Andrew Stanton', 2003, 107)\n",
      "(6, 'The Incredibles', 'Brad Bird', 2004, 116)\n",
      "(7, 'Cars', 'John Lasseter', 2006, 117)\n",
      "(8, 'Ratatouille', 'Brad Bird', 2007, 115)\n",
      "(9, 'WALL-E', 'Andrew Stanton', 2008, 104)\n",
      "(10, 'Up', 'Pete Docter', 2009, 101)\n",
      "(11, 'Toy Story 3', 'Lee Unkrich', 2010, 103)\n",
      "(12, 'Cars 2', 'John Lasseter', 2011, 120)\n",
      "(13, 'Brave', 'Brenda Chapman', 2012, 102)\n",
      "(14, 'Monsters University', 'Dan Scanlon', 2013, 110)\n"
     ]
    }
   ],
   "source": [
    "ret = conn.execute('''Select * from movies;''')\n",
    "for r in ret:\n",
    "    print(r)"
   ]
  },
  {
   "cell_type": "raw",
   "id": "d8d9b86a-a11d-4d70-a577-c2e4f45a3e8b",
   "metadata": {},
   "source": [
    "Select query with unique results\n",
    "SELECT DISTINCT column, another_column, …\n",
    "FROM mytable\n",
    "WHERE condition(s);"
   ]
  },
  {
   "cell_type": "raw",
   "id": "e79a849d-ff72-4ca3-9c9d-0e85d3ce1d5e",
   "metadata": {},
   "source": [
    "Select query with ordered results\n",
    "SELECT column, another_column, …\n",
    "FROM mytable\n",
    "WHERE condition(s)\n",
    "ORDER BY column ASC/DESC;"
   ]
  },
  {
   "cell_type": "raw",
   "id": "fc7975a0-a490-4408-878e-49bfc4a266fd",
   "metadata": {},
   "source": [
    "Select query with limited rows\n",
    "SELECT column, another_column, …\n",
    "FROM mytable\n",
    "WHERE condition(s)\n",
    "ORDER BY column ASC/DESC\n",
    "LIMIT num_limit OFFSET num_offset;"
   ]
  },
  {
   "cell_type": "raw",
   "id": "4210fba4-027f-44f7-93c5-0bba7007eaea",
   "metadata": {},
   "source": [
    "List all directors of Pixar movies (alphabetically), without duplicates"
   ]
  },
  {
   "cell_type": "code",
   "execution_count": 3,
   "id": "416a7451-581e-4b6b-8e7a-f3fb78bc0514",
   "metadata": {},
   "outputs": [
    {
     "name": "stdout",
     "output_type": "stream",
     "text": [
      "('Andrew Stanton',)\n",
      "('Brad Bird',)\n",
      "('Brenda Chapman',)\n",
      "('Dan Scanlon',)\n",
      "('John Lasseter',)\n",
      "('Lee Unkrich',)\n",
      "('Pete Docter',)\n"
     ]
    }
   ],
   "source": [
    "ret = conn.execute('''SELECT DISTINCT director FROM movies order by director;''')\n",
    "for r in ret:\n",
    "    print(r)"
   ]
  },
  {
   "cell_type": "raw",
   "id": "1aa8e042-28bc-454a-8b35-ccf76ac1127f",
   "metadata": {},
   "source": [
    "List the last four Pixar movies released (ordered from most recent to least)"
   ]
  },
  {
   "cell_type": "code",
   "execution_count": 4,
   "id": "ccce17ba-d3b5-4933-8869-95fe88b3fe6c",
   "metadata": {},
   "outputs": [
    {
     "name": "stdout",
     "output_type": "stream",
     "text": [
      "('Monsters University',)\n",
      "('Brave',)\n",
      "('Cars 2',)\n",
      "('Toy Story 3',)\n"
     ]
    }
   ],
   "source": [
    "ret = conn.execute('''SELECT title FROM movies order by year DESC Limit 4;''')\n",
    "for r in ret:\n",
    "    print(r)"
   ]
  },
  {
   "cell_type": "raw",
   "id": "c1b8176e-12b3-4f44-be6e-09c81263b219",
   "metadata": {},
   "source": [
    "List the first five Pixar movies sorted alphabetically"
   ]
  },
  {
   "cell_type": "code",
   "execution_count": 5,
   "id": "30853fe6-c929-4e16-9f93-50f6263d8caf",
   "metadata": {},
   "outputs": [
    {
     "name": "stdout",
     "output_type": "stream",
     "text": [
      "(\"A Bug's Life\",)\n",
      "('Brave',)\n",
      "('Cars',)\n",
      "('Cars 2',)\n",
      "('Finding Nemo',)\n"
     ]
    }
   ],
   "source": [
    "ret = conn.execute('''SELECT title FROM movies order by title ASC Limit 5;''')\n",
    "for r in ret:\n",
    "    print(r)"
   ]
  },
  {
   "cell_type": "raw",
   "id": "b42dd419-f969-474e-a8b8-1662ea370dcf",
   "metadata": {},
   "source": [
    "List the next five Pixar movies sorted alphabetically"
   ]
  },
  {
   "cell_type": "code",
   "execution_count": 6,
   "id": "2cd70fab-5c54-486c-8727-671dcc89a0cb",
   "metadata": {},
   "outputs": [
    {
     "name": "stdout",
     "output_type": "stream",
     "text": [
      "('Monsters University',)\n",
      "('Monsters, Inc.',)\n",
      "('Ratatouille',)\n",
      "('The Incredibles',)\n",
      "('Toy Story',)\n"
     ]
    }
   ],
   "source": [
    "ret = conn.execute('''SELECT title FROM movies order by title ASC Limit 5 OFFSET 5;''')\n",
    "for r in ret:\n",
    "    print(r)"
   ]
  }
 ],
 "metadata": {
  "kernelspec": {
   "display_name": "Python 3 (ipykernel)",
   "language": "python",
   "name": "python3"
  },
  "language_info": {
   "codemirror_mode": {
    "name": "ipython",
    "version": 3
   },
   "file_extension": ".py",
   "mimetype": "text/x-python",
   "name": "python",
   "nbconvert_exporter": "python",
   "pygments_lexer": "ipython3",
   "version": "3.10.4"
  }
 },
 "nbformat": 4,
 "nbformat_minor": 5
}
