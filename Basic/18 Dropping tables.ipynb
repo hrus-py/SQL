{
 "cells": [
  {
   "cell_type": "raw",
   "id": "4d27c1c9-6ccd-4884-9508-5f1ba20dcbd4",
   "metadata": {},
   "source": [
    "Drop table statement\n",
    "DROP TABLE IF EXISTS mytable;"
   ]
  },
  {
   "cell_type": "raw",
   "id": "896d5ddf-4c5b-4836-9c1e-c32a89330f8c",
   "metadata": {},
   "source": [
    "If you have another table that is dependent on columns in table you are removing (for example, with a FOREIGN KEY dependency) then you will have to either update all dependent tables first to remove the dependent rows or to remove those tables entirely."
   ]
  },
  {
   "cell_type": "code",
   "execution_count": 1,
   "id": "3371812d-5aa2-44cf-9563-a9d26c6b7d4d",
   "metadata": {},
   "outputs": [
    {
     "name": "stdout",
     "output_type": "stream",
     "text": [
      "Opened database successfully\n"
     ]
    }
   ],
   "source": [
    "import pandas as pd\n",
    "\n",
    "import sqlite3\n",
    "conn = sqlite3.connect('test.db')\n",
    "print(\"Opened database successfully\")"
   ]
  },
  {
   "cell_type": "raw",
   "id": "728aea25-f8dc-4903-b2f6-7da70e902444",
   "metadata": {},
   "source": [
    "Clean up by removing the Movies table"
   ]
  },
  {
   "cell_type": "code",
   "execution_count": 2,
   "id": "31e7efc1-314d-43ba-b361-e578e2bba02f",
   "metadata": {},
   "outputs": [
    {
     "name": "stdout",
     "output_type": "stream",
     "text": [
      "('north_american_cities',)\n",
      "('boxoffice',)\n",
      "('employeees',)\n",
      "('buildings',)\n",
      "('employees',)\n",
      "('database',)\n"
     ]
    }
   ],
   "source": [
    "ret = conn.execute('''drop table movies;''')\n",
    "ret = conn.execute('''SELECT name FROM sqlite_master\n",
    "    WHERE type='table';''')\n",
    "for r in ret:\n",
    "    print(r)"
   ]
  },
  {
   "cell_type": "raw",
   "id": "9193b92d-4fd7-4145-949b-db0e83a01626",
   "metadata": {},
   "source": [
    "Drop the BoxOffice table"
   ]
  },
  {
   "cell_type": "code",
   "execution_count": 3,
   "id": "74d380e3-01e1-45e4-a1e6-2d986d51eb58",
   "metadata": {},
   "outputs": [
    {
     "name": "stdout",
     "output_type": "stream",
     "text": [
      "('north_american_cities',)\n",
      "('employeees',)\n",
      "('buildings',)\n",
      "('employees',)\n",
      "('database',)\n"
     ]
    }
   ],
   "source": [
    "ret = conn.execute('''drop table boxoffice;''')\n",
    "ret = conn.execute('''SELECT name FROM sqlite_master\n",
    "    WHERE type='table';''')\n",
    "for r in ret:\n",
    "    print(r)"
   ]
  },
  {
   "cell_type": "code",
   "execution_count": 4,
   "id": "f18e7bf5-6767-4386-9b08-41b743edcc68",
   "metadata": {},
   "outputs": [],
   "source": [
    "conn.close()"
   ]
  }
 ],
 "metadata": {
  "kernelspec": {
   "display_name": "Python 3 (ipykernel)",
   "language": "python",
   "name": "python3"
  },
  "language_info": {
   "codemirror_mode": {
    "name": "ipython",
    "version": 3
   },
   "file_extension": ".py",
   "mimetype": "text/x-python",
   "name": "python",
   "nbconvert_exporter": "python",
   "pygments_lexer": "ipython3",
   "version": "3.10.4"
  }
 },
 "nbformat": 4,
 "nbformat_minor": 5
}
