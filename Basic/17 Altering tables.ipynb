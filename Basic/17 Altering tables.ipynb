{
 "cells": [
  {
   "cell_type": "raw",
   "id": "07223161-bdce-4e3b-a8b4-86fa456fe770",
   "metadata": {},
   "source": [
    "Adding columns\n",
    "\n",
    "Altering table to add new column(s)\n",
    "ALTER TABLE mytable\n",
    "ADD column DataType OptionalTableConstraint \n",
    "    DEFAULT default_value;"
   ]
  },
  {
   "cell_type": "raw",
   "id": "078f8369-1dbc-4dc0-934e-2b240a14c836",
   "metadata": {},
   "source": [
    "Removing columns\n",
    "\n",
    "Altering table to remove column(s)\n",
    "ALTER TABLE mytable\n",
    "DROP column_to_be_deleted;\n",
    "\n",
    "However, some databases (including SQLite) don't support this feature. Instead you may have to create a new table and migrate the data over."
   ]
  },
  {
   "cell_type": "raw",
   "id": "f498afd4-9136-4682-96c6-f8ffc8534fc1",
   "metadata": {},
   "source": [
    "Renaming the table\n",
    "\n",
    "Altering table name\n",
    "ALTER TABLE mytable\n",
    "RENAME TO new_table_name;"
   ]
  },
  {
   "cell_type": "code",
   "execution_count": 12,
   "id": "5de3889b-ef9d-4c4c-b219-ebee2e8e3b04",
   "metadata": {},
   "outputs": [
    {
     "name": "stdout",
     "output_type": "stream",
     "text": [
      "Opened database successfully\n"
     ]
    }
   ],
   "source": [
    "import pandas as pd\n",
    "\n",
    "import sqlite3\n",
    "conn = sqlite3.connect('test.db')\n",
    "print(\"Opened database successfully\")"
   ]
  },
  {
   "cell_type": "code",
   "execution_count": 13,
   "id": "dca594e2-6790-4acd-8551-85103e2ff009",
   "metadata": {},
   "outputs": [
    {
     "name": "stdout",
     "output_type": "stream",
     "text": [
      "(1, 'Toy Story', 'John Lasseter', 1995, 81, None, 'English')\n",
      "(2, \"A Bug's Life\", 'John Lasseter', 1998, 95, None, 'English')\n",
      "(3, 'Toy Story 2', 'John Lasseter', 1999, 93, None, 'English')\n",
      "(4, 'Monsters, Inc.', 'Pete Docter', 2001, 92, None, 'English')\n",
      "(5, 'Finding Nemo', 'Andrew Stanton', 2003, 107, None, 'English')\n",
      "(6, 'The Incredibles', 'Brad Bird', 2004, 116, None, 'English')\n",
      "(7, 'Cars', 'John Lasseter', 2006, 117, None, 'English')\n",
      "(8, 'Ratatouille', 'Brad Bird', 2007, 115, None, 'English')\n",
      "(9, 'WALL-E', 'Andrew Stanton', 2008, 104, None, 'English')\n",
      "(10, 'Up', 'Pete Docter', 2009, 101, None, 'English')\n",
      "(11, 'Toy Story 3', 'Lee Unkrich', 2010, 103, None, 'English')\n",
      "(12, 'Cars 2', 'John Lasseter', 2011, 120, None, 'English')\n",
      "(13, 'Brave', 'Brenda Chapman', 2012, 102, None, 'English')\n",
      "(14, 'Monsters University', 'Dan Scanlon', 2013, 110, None, 'English')\n"
     ]
    }
   ],
   "source": [
    "ret = conn.execute('''SELECT * FROM movies;''')\n",
    "for r in ret:\n",
    "    print(r)"
   ]
  },
  {
   "cell_type": "raw",
   "id": "d04656d8-9c3d-41f9-9c5c-951df71d0fae",
   "metadata": {},
   "source": [
    "Add a column named Aspect_ratio with a FLOAT data type to store the aspect-ratio each movie was released in."
   ]
  },
  {
   "cell_type": "code",
   "execution_count": 10,
   "id": "9ee450ab-7930-414c-90b5-4a1bbb9da15f",
   "metadata": {},
   "outputs": [
    {
     "ename": "OperationalError",
     "evalue": "duplicate column name: aspect_ratio",
     "output_type": "error",
     "traceback": [
      "\u001b[0;31m---------------------------------------------------------------------------\u001b[0m",
      "\u001b[0;31mOperationalError\u001b[0m                          Traceback (most recent call last)",
      "Cell \u001b[0;32mIn[10], line 1\u001b[0m\n\u001b[0;32m----> 1\u001b[0m ret \u001b[38;5;241m=\u001b[39m \u001b[43mconn\u001b[49m\u001b[38;5;241;43m.\u001b[39;49m\u001b[43mexecute\u001b[49m\u001b[43m(\u001b[49m\u001b[38;5;124;43m'''\u001b[39;49m\u001b[38;5;124;43mAlter table movies\u001b[39;49m\n\u001b[1;32m      2\u001b[0m \u001b[38;5;124;43mADD aspect_ratio float;\u001b[39;49m\u001b[38;5;124;43m'''\u001b[39;49m\u001b[43m)\u001b[49m\n\u001b[1;32m      3\u001b[0m ret \u001b[38;5;241m=\u001b[39m conn\u001b[38;5;241m.\u001b[39mexecute(\u001b[38;5;124m'''\u001b[39m\u001b[38;5;124mSELECT * FROM movies;\u001b[39m\u001b[38;5;124m'''\u001b[39m)\n\u001b[1;32m      4\u001b[0m \u001b[38;5;28;01mfor\u001b[39;00m r \u001b[38;5;129;01min\u001b[39;00m ret:\n",
      "\u001b[0;31mOperationalError\u001b[0m: duplicate column name: aspect_ratio"
     ]
    }
   ],
   "source": [
    "ret = conn.execute('''Alter table movies\n",
    "ADD aspect_ratio float;''')\n",
    "ret = conn.execute('''SELECT * FROM movies;''')\n",
    "for r in ret:\n",
    "    print(r)"
   ]
  },
  {
   "cell_type": "raw",
   "id": "b89ea6ca-fb9d-4633-a824-83b296a98e5d",
   "metadata": {},
   "source": [
    "Add another column named Language with a TEXT data type to store the language that the movie was released in. Ensure that the default for this language is English."
   ]
  },
  {
   "cell_type": "code",
   "execution_count": 9,
   "id": "a360882a-c585-4672-924b-bbe8aca5960b",
   "metadata": {},
   "outputs": [
    {
     "name": "stdout",
     "output_type": "stream",
     "text": [
      "(1, 'Toy Story', 'John Lasseter', 1995, 81, None, 'English')\n",
      "(2, \"A Bug's Life\", 'John Lasseter', 1998, 95, None, 'English')\n",
      "(3, 'Toy Story 2', 'John Lasseter', 1999, 93, None, 'English')\n",
      "(4, 'Monsters, Inc.', 'Pete Docter', 2001, 92, None, 'English')\n",
      "(5, 'Finding Nemo', 'Andrew Stanton', 2003, 107, None, 'English')\n",
      "(6, 'The Incredibles', 'Brad Bird', 2004, 116, None, 'English')\n",
      "(7, 'Cars', 'John Lasseter', 2006, 117, None, 'English')\n",
      "(8, 'Ratatouille', 'Brad Bird', 2007, 115, None, 'English')\n",
      "(9, 'WALL-E', 'Andrew Stanton', 2008, 104, None, 'English')\n",
      "(10, 'Up', 'Pete Docter', 2009, 101, None, 'English')\n",
      "(11, 'Toy Story 3', 'Lee Unkrich', 2010, 103, None, 'English')\n",
      "(12, 'Cars 2', 'John Lasseter', 2011, 120, None, 'English')\n",
      "(13, 'Brave', 'Brenda Chapman', 2012, 102, None, 'English')\n",
      "(14, 'Monsters University', 'Dan Scanlon', 2013, 110, None, 'English')\n"
     ]
    }
   ],
   "source": [
    "ret = conn.execute('''Alter table movies ADD language text Default 'English';''')\n",
    "ret = conn.execute('''SELECT * FROM movies;''')\n",
    "for r in ret:\n",
    "    print(r)"
   ]
  },
  {
   "cell_type": "code",
   "execution_count": 19,
   "id": "7fd7253c-50a2-45ca-9413-4330d3df9561",
   "metadata": {},
   "outputs": [],
   "source": [
    "conn.close()"
   ]
  }
 ],
 "metadata": {
  "kernelspec": {
   "display_name": "Python 3 (ipykernel)",
   "language": "python",
   "name": "python3"
  },
  "language_info": {
   "codemirror_mode": {
    "name": "ipython",
    "version": 3
   },
   "file_extension": ".py",
   "mimetype": "text/x-python",
   "name": "python",
   "nbconvert_exporter": "python",
   "pygments_lexer": "ipython3",
   "version": "3.10.4"
  }
 },
 "nbformat": 4,
 "nbformat_minor": 5
}
