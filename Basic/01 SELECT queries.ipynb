{
 "cells": [
  {
   "cell_type": "markdown",
   "metadata": {},
   "source": [
    "Select query for a specific columns <br>\n",
    "SELECT column, another_column, …\n",
    "FROM mytable;"
   ]
  },
  {
   "cell_type": "markdown",
   "metadata": {},
   "source": [
    "Select query for all columns <br>\n",
    "SELECT * \n",
    "FROM mytable;"
   ]
  },
  {
   "cell_type": "code",
   "execution_count": 1,
   "metadata": {},
   "outputs": [],
   "source": [
    "import pandas as pd"
   ]
  },
  {
   "cell_type": "code",
   "execution_count": 2,
   "metadata": {},
   "outputs": [
    {
     "name": "stdout",
     "output_type": "stream",
     "text": [
      "Opened database successfully\n"
     ]
    }
   ],
   "source": [
    "import sqlite3\n",
    "conn = sqlite3.connect('test.db')\n",
    "print(\"Opened database successfully\")"
   ]
  },
  {
   "cell_type": "code",
   "execution_count": 3,
   "metadata": {},
   "outputs": [
    {
     "name": "stdout",
     "output_type": "stream",
     "text": [
      "Table created Successfully\n"
     ]
    }
   ],
   "source": [
    "# Create Table\n",
    "conn.execute('''CREATE TABLE IF NOT EXISTS movies\n",
    "         (Id INT PRIMARY KEY NOT NULL,\n",
    "         Title TEXT, \n",
    "         Director TEXT,\n",
    "         Year INT,\n",
    "         Length_minutes INT);''')\n",
    "\n",
    "print(\"Table created Successfully\")"
   ]
  },
  {
   "cell_type": "code",
   "execution_count": 4,
   "metadata": {},
   "outputs": [
    {
     "data": {
      "text/html": [
       "<div>\n",
       "<style scoped>\n",
       "    .dataframe tbody tr th:only-of-type {\n",
       "        vertical-align: middle;\n",
       "    }\n",
       "\n",
       "    .dataframe tbody tr th {\n",
       "        vertical-align: top;\n",
       "    }\n",
       "\n",
       "    .dataframe thead th {\n",
       "        text-align: right;\n",
       "    }\n",
       "</style>\n",
       "<table border=\"1\" class=\"dataframe\">\n",
       "  <thead>\n",
       "    <tr style=\"text-align: right;\">\n",
       "      <th></th>\n",
       "      <th>Id</th>\n",
       "      <th>Title</th>\n",
       "      <th>Director</th>\n",
       "      <th>Year</th>\n",
       "      <th>Length_minutes</th>\n",
       "    </tr>\n",
       "  </thead>\n",
       "  <tbody>\n",
       "    <tr>\n",
       "      <th>0</th>\n",
       "      <td>1</td>\n",
       "      <td>Toy Story</td>\n",
       "      <td>John Lasseter</td>\n",
       "      <td>1995</td>\n",
       "      <td>81</td>\n",
       "    </tr>\n",
       "    <tr>\n",
       "      <th>1</th>\n",
       "      <td>2</td>\n",
       "      <td>A Bug's Life</td>\n",
       "      <td>John Lasseter</td>\n",
       "      <td>1998</td>\n",
       "      <td>95</td>\n",
       "    </tr>\n",
       "    <tr>\n",
       "      <th>2</th>\n",
       "      <td>3</td>\n",
       "      <td>Toy Story 2</td>\n",
       "      <td>John Lasseter</td>\n",
       "      <td>1999</td>\n",
       "      <td>93</td>\n",
       "    </tr>\n",
       "    <tr>\n",
       "      <th>3</th>\n",
       "      <td>4</td>\n",
       "      <td>Monsters, Inc.</td>\n",
       "      <td>Pete Docter</td>\n",
       "      <td>2001</td>\n",
       "      <td>92</td>\n",
       "    </tr>\n",
       "    <tr>\n",
       "      <th>4</th>\n",
       "      <td>5</td>\n",
       "      <td>Finding Nemo</td>\n",
       "      <td>Andrew Stanton</td>\n",
       "      <td>2003</td>\n",
       "      <td>107</td>\n",
       "    </tr>\n",
       "  </tbody>\n",
       "</table>\n",
       "</div>"
      ],
      "text/plain": [
       "   Id           Title        Director  Year  Length_minutes\n",
       "0   1       Toy Story   John Lasseter  1995              81\n",
       "1   2    A Bug's Life   John Lasseter  1998              95\n",
       "2   3     Toy Story 2   John Lasseter  1999              93\n",
       "3   4  Monsters, Inc.     Pete Docter  2001              92\n",
       "4   5    Finding Nemo  Andrew Stanton  2003             107"
      ]
     },
     "execution_count": 4,
     "metadata": {},
     "output_type": "execute_result"
    }
   ],
   "source": [
    "df = pd.read_csv('01_table_movies.csv', sep='\\t')\n",
    "df.head()"
   ]
  },
  {
   "cell_type": "code",
   "execution_count": 5,
   "metadata": {},
   "outputs": [
    {
     "name": "stdout",
     "output_type": "stream",
     "text": [
      "14  Rows inserted into table\n"
     ]
    }
   ],
   "source": [
    "ret = df.to_sql('movies', conn, if_exists='replace', index=False)\n",
    "print(ret, \" Rows inserted into table\")"
   ]
  },
  {
   "cell_type": "markdown",
   "metadata": {},
   "source": [
    "Find all the information about each film"
   ]
  },
  {
   "cell_type": "code",
   "execution_count": 6,
   "metadata": {},
   "outputs": [
    {
     "name": "stdout",
     "output_type": "stream",
     "text": [
      "(1, 'Toy Story', 'John Lasseter', 1995, 81)\n",
      "(2, \"A Bug's Life\", 'John Lasseter', 1998, 95)\n",
      "(3, 'Toy Story 2', 'John Lasseter', 1999, 93)\n",
      "(4, 'Monsters, Inc.', 'Pete Docter', 2001, 92)\n",
      "(5, 'Finding Nemo', 'Andrew Stanton', 2003, 107)\n",
      "(6, 'The Incredibles', 'Brad Bird', 2004, 116)\n",
      "(7, 'Cars', 'John Lasseter', 2006, 117)\n",
      "(8, 'Ratatouille', 'Brad Bird', 2007, 115)\n",
      "(9, 'WALL-E', 'Andrew Stanton', 2008, 104)\n",
      "(10, 'Up', 'Pete Docter', 2009, 101)\n",
      "(11, 'Toy Story 3', 'Lee Unkrich', 2010, 103)\n",
      "(12, 'Cars 2', 'John Lasseter', 2011, 120)\n",
      "(13, 'Brave', 'Brenda Chapman', 2012, 102)\n",
      "(14, 'Monsters University', 'Dan Scanlon', 2013, 110)\n"
     ]
    }
   ],
   "source": [
    "ret = conn.execute('''Select * from movies;''')\n",
    "for r in ret:\n",
    "    print(r)"
   ]
  },
  {
   "cell_type": "markdown",
   "metadata": {},
   "source": [
    "Find the title of each film"
   ]
  },
  {
   "cell_type": "code",
   "execution_count": 21,
   "metadata": {},
   "outputs": [
    {
     "name": "stdout",
     "output_type": "stream",
     "text": [
      "('Toy Story',)\n",
      "(\"A Bug's Life\",)\n",
      "('Toy Story 2',)\n",
      "('Monsters, Inc.',)\n",
      "('Finding Nemo',)\n",
      "('The Incredibles',)\n",
      "('Cars',)\n",
      "('Ratatouille',)\n",
      "('WALL-E',)\n",
      "('Up',)\n",
      "('Toy Story 3',)\n",
      "('Cars 2',)\n",
      "('Brave',)\n",
      "('Monsters University',)\n"
     ]
    }
   ],
   "source": [
    "ret = conn.execute('''Select title from movies;''')\n",
    "for r in ret:\n",
    "    print(r)"
   ]
  },
  {
   "cell_type": "markdown",
   "metadata": {},
   "source": [
    "Find the director of each film"
   ]
  },
  {
   "cell_type": "code",
   "execution_count": 22,
   "metadata": {},
   "outputs": [
    {
     "name": "stdout",
     "output_type": "stream",
     "text": [
      "('John Lasseter',)\n",
      "('John Lasseter',)\n",
      "('John Lasseter',)\n",
      "('Pete Docter',)\n",
      "('Andrew Stanton',)\n",
      "('Brad Bird',)\n",
      "('John Lasseter',)\n",
      "('Brad Bird',)\n",
      "('Andrew Stanton',)\n",
      "('Pete Docter',)\n",
      "('Lee Unkrich',)\n",
      "('John Lasseter',)\n",
      "('Brenda Chapman',)\n",
      "('Dan Scanlon',)\n"
     ]
    }
   ],
   "source": [
    "ret = conn.execute('''Select director from movies;''')\n",
    "for r in ret:\n",
    "    print(r)"
   ]
  },
  {
   "cell_type": "markdown",
   "metadata": {},
   "source": [
    "Find the title and year of each film"
   ]
  },
  {
   "cell_type": "code",
   "execution_count": 23,
   "metadata": {},
   "outputs": [
    {
     "name": "stdout",
     "output_type": "stream",
     "text": [
      "('Toy Story', 1995)\n",
      "(\"A Bug's Life\", 1998)\n",
      "('Toy Story 2', 1999)\n",
      "('Monsters, Inc.', 2001)\n",
      "('Finding Nemo', 2003)\n",
      "('The Incredibles', 2004)\n",
      "('Cars', 2006)\n",
      "('Ratatouille', 2007)\n",
      "('WALL-E', 2008)\n",
      "('Up', 2009)\n",
      "('Toy Story 3', 2010)\n",
      "('Cars 2', 2011)\n",
      "('Brave', 2012)\n",
      "('Monsters University', 2013)\n"
     ]
    }
   ],
   "source": [
    "ret = conn.execute('''Select title, year from movies;''')\n",
    "for r in ret:\n",
    "    print(r)"
   ]
  },
  {
   "cell_type": "markdown",
   "metadata": {},
   "source": [
    "Find the title and director of each film"
   ]
  },
  {
   "cell_type": "code",
   "execution_count": 24,
   "metadata": {},
   "outputs": [
    {
     "name": "stdout",
     "output_type": "stream",
     "text": [
      "('Toy Story', 'John Lasseter')\n",
      "(\"A Bug's Life\", 'John Lasseter')\n",
      "('Toy Story 2', 'John Lasseter')\n",
      "('Monsters, Inc.', 'Pete Docter')\n",
      "('Finding Nemo', 'Andrew Stanton')\n",
      "('The Incredibles', 'Brad Bird')\n",
      "('Cars', 'John Lasseter')\n",
      "('Ratatouille', 'Brad Bird')\n",
      "('WALL-E', 'Andrew Stanton')\n",
      "('Up', 'Pete Docter')\n",
      "('Toy Story 3', 'Lee Unkrich')\n",
      "('Cars 2', 'John Lasseter')\n",
      "('Brave', 'Brenda Chapman')\n",
      "('Monsters University', 'Dan Scanlon')\n"
     ]
    }
   ],
   "source": [
    "ret = conn.execute('''Select title, director from movies;''')\n",
    "for r in ret:\n",
    "    print(r)"
   ]
  },
  {
   "cell_type": "code",
   "execution_count": null,
   "metadata": {},
   "outputs": [],
   "source": [
    "conn.close()"
   ]
  }
 ],
 "metadata": {
  "kernelspec": {
   "display_name": "Python 3 (ipykernel)",
   "language": "python",
   "name": "python3"
  },
  "language_info": {
   "codemirror_mode": {
    "name": "ipython",
    "version": 3
   },
   "file_extension": ".py",
   "mimetype": "text/x-python",
   "name": "python",
   "nbconvert_exporter": "python",
   "pygments_lexer": "ipython3",
   "version": "3.10.4"
  }
 },
 "nbformat": 4,
 "nbformat_minor": 4
}
