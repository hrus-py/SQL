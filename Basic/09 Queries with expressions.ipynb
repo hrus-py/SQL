{
 "cells": [
  {
   "cell_type": "raw",
   "id": "cf905117-562e-46b1-9c27-59b5f45a2731",
   "metadata": {},
   "source": [
    "Select query with expression aliases\n",
    "\n",
    "SELECT col_expression AS expr_description, …\n",
    "FROM mytable;"
   ]
  },
  {
   "cell_type": "raw",
   "id": "11e9e5e6-c4ca-49b5-a3ce-78bac5ec0f0c",
   "metadata": {},
   "source": [
    "Example query with expressions\n",
    "SELECT particle_speed / 2.0 AS half_particle_speed\n",
    "FROM physics_data\n",
    "WHERE ABS(particle_position) * 10.0 > 500;"
   ]
  },
  {
   "cell_type": "raw",
   "id": "bd26e1e8-b74b-4bd4-9678-7c0311792b97",
   "metadata": {},
   "source": [
    "Example query with both column and table name aliases\n",
    "SELECT column AS better_column_name, …\n",
    "FROM a_long_widgets_table_name AS mywidgets\n",
    "INNER JOIN widget_sales\n",
    "  ON mywidgets.id = widget_sales.widget_id;"
   ]
  },
  {
   "cell_type": "code",
   "execution_count": 1,
   "id": "9a79a4d1-77e6-4ac5-8c98-da2e6c232891",
   "metadata": {
    "tags": []
   },
   "outputs": [],
   "source": [
    "import pandas as pd"
   ]
  },
  {
   "cell_type": "code",
   "execution_count": 2,
   "id": "8bc33d26-738a-4003-90eb-d897d0f330cc",
   "metadata": {},
   "outputs": [
    {
     "name": "stdout",
     "output_type": "stream",
     "text": [
      "Opened database successfully\n"
     ]
    }
   ],
   "source": [
    "import sqlite3\n",
    "conn = sqlite3.connect('test.db')\n",
    "print(\"Opened database successfully\")"
   ]
  },
  {
   "cell_type": "code",
   "execution_count": 3,
   "id": "7ebeb28c-966d-4917-bbe1-2c24a4857819",
   "metadata": {},
   "outputs": [
    {
     "name": "stdout",
     "output_type": "stream",
     "text": [
      "(1, 'Toy Story', 'John Lasseter', 1995, 81)\n",
      "(2, \"A Bug's Life\", 'John Lasseter', 1998, 95)\n",
      "(3, 'Toy Story 2', 'John Lasseter', 1999, 93)\n",
      "(4, 'Monsters, Inc.', 'Pete Docter', 2001, 92)\n",
      "(5, 'Finding Nemo', 'Andrew Stanton', 2003, 107)\n",
      "(6, 'The Incredibles', 'Brad Bird', 2004, 116)\n",
      "(7, 'Cars', 'John Lasseter', 2006, 117)\n",
      "(8, 'Ratatouille', 'Brad Bird', 2007, 115)\n",
      "(9, 'WALL-E', 'Andrew Stanton', 2008, 104)\n",
      "(10, 'Up', 'Pete Docter', 2009, 101)\n",
      "(11, 'Toy Story 3', 'Lee Unkrich', 2010, 103)\n",
      "(12, 'Cars 2', 'John Lasseter', 2011, 120)\n",
      "(13, 'Brave', 'Brenda Chapman', 2012, 102)\n",
      "(14, 'Monsters University', 'Dan Scanlon', 2013, 110)\n"
     ]
    }
   ],
   "source": [
    "ret = conn.execute('''SELECT * FROM movies;''')\n",
    "for r in ret:\n",
    "    print(r)"
   ]
  },
  {
   "cell_type": "code",
   "execution_count": 4,
   "id": "f531a6d3-e7d5-4c55-9e68-15b8bfe0af18",
   "metadata": {},
   "outputs": [
    {
     "name": "stdout",
     "output_type": "stream",
     "text": [
      "(5, 8.2, 380843261, 555900000)\n",
      "(14, 7.4, 268492764, 475066843)\n",
      "(8, 8.0, 206445654, 417277164)\n",
      "(12, 6.4, 191452396, 368400000)\n",
      "(3, 7.9, 245852179, 239163000)\n",
      "(6, 8.0, 261441092, 370001000)\n",
      "(9, 8.5, 223808164, 297503696)\n",
      "(11, 8.4, 415004880, 648167031)\n",
      "(1, 8.3, 191796233, 170162503)\n",
      "(7, 7.2, 244082982, 217900167)\n",
      "(10, 8.3, 293004164, 438338580)\n",
      "(4, 8.1, 289916256, 272900000)\n",
      "(2, 7.2, 162798565, 200600000)\n",
      "(13, 7.2, 237283207, 301700000)\n"
     ]
    }
   ],
   "source": [
    "ret = conn.execute('''SELECT * FROM boxoffice;''')\n",
    "for r in ret:\n",
    "    print(r)"
   ]
  },
  {
   "cell_type": "raw",
   "id": "1d152496-35f7-4598-88fc-2b96b559372b",
   "metadata": {},
   "source": [
    "List all movies and their combined sales in millions of dollars"
   ]
  },
  {
   "cell_type": "code",
   "execution_count": 6,
   "id": "9e9bd50b-0853-45cd-9a8f-4de788e7adad",
   "metadata": {},
   "outputs": [
    {
     "name": "stdout",
     "output_type": "stream",
     "text": [
      "('Finding Nemo', 936)\n",
      "('Monsters University', 743)\n",
      "('Ratatouille', 623)\n",
      "('Cars 2', 559)\n",
      "('Toy Story 2', 485)\n",
      "('The Incredibles', 631)\n",
      "('WALL-E', 521)\n",
      "('Toy Story 3', 1063)\n",
      "('Toy Story', 361)\n",
      "('Cars', 461)\n",
      "('Up', 731)\n",
      "('Monsters, Inc.', 562)\n",
      "(\"A Bug's Life\", 363)\n",
      "('Brave', 538)\n"
     ]
    }
   ],
   "source": [
    "ret = conn.execute('''SELECT title, ((domestic_sales + international_sales) / 1000000) as sales FROM boxoffice inner join movies on movie_id = id;''')\n",
    "for r in ret:\n",
    "    print(r)"
   ]
  },
  {
   "cell_type": "raw",
   "id": "6da8e3ef-1634-4689-a715-b31b148704a5",
   "metadata": {},
   "source": [
    "List all movies and their ratings in percent"
   ]
  },
  {
   "cell_type": "code",
   "execution_count": 7,
   "id": "fb0d2770-ddcf-4879-9b76-64f219b87eeb",
   "metadata": {},
   "outputs": [
    {
     "name": "stdout",
     "output_type": "stream",
     "text": [
      "('Finding Nemo', 82.0)\n",
      "('Monsters University', 74.0)\n",
      "('Ratatouille', 80.0)\n",
      "('Cars 2', 64.0)\n",
      "('Toy Story 2', 79.0)\n",
      "('The Incredibles', 80.0)\n",
      "('WALL-E', 85.0)\n",
      "('Toy Story 3', 84.0)\n",
      "('Toy Story', 83.0)\n",
      "('Cars', 72.0)\n",
      "('Up', 83.0)\n",
      "('Monsters, Inc.', 81.0)\n",
      "(\"A Bug's Life\", 72.0)\n",
      "('Brave', 72.0)\n"
     ]
    }
   ],
   "source": [
    "ret = conn.execute('''SELECT title, (rating * 10) as r_percentage FROM boxoffice inner join movies on movie_id = id;''')\n",
    "for r in ret:\n",
    "    print(r)"
   ]
  },
  {
   "cell_type": "raw",
   "id": "c7720c3c-c3e6-4374-9179-bf4f198570a1",
   "metadata": {},
   "source": [
    "List all movies that were released on even number years"
   ]
  },
  {
   "cell_type": "code",
   "execution_count": 8,
   "id": "69dcc5d8-c8eb-4f72-b2f5-46aed8d56abe",
   "metadata": {},
   "outputs": [
    {
     "name": "stdout",
     "output_type": "stream",
     "text": [
      "(\"A Bug's Life\",)\n",
      "('The Incredibles',)\n",
      "('Cars',)\n",
      "('WALL-E',)\n",
      "('Toy Story 3',)\n",
      "('Brave',)\n"
     ]
    }
   ],
   "source": [
    "ret = conn.execute('''SELECT title FROM movies where year % 2 = 0;''')\n",
    "for r in ret:\n",
    "    print(r)"
   ]
  },
  {
   "cell_type": "code",
   "execution_count": null,
   "id": "72daa9ea-b44d-46d0-b159-638bf6cc03d5",
   "metadata": {},
   "outputs": [],
   "source": [
    "conn.close()"
   ]
  }
 ],
 "metadata": {
  "kernelspec": {
   "display_name": "Python 3 (ipykernel)",
   "language": "python",
   "name": "python3"
  },
  "language_info": {
   "codemirror_mode": {
    "name": "ipython",
    "version": 3
   },
   "file_extension": ".py",
   "mimetype": "text/x-python",
   "name": "python",
   "nbconvert_exporter": "python",
   "pygments_lexer": "ipython3",
   "version": "3.10.4"
  }
 },
 "nbformat": 4,
 "nbformat_minor": 5
}
