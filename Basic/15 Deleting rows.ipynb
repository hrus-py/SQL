{
 "cells": [
  {
   "cell_type": "raw",
   "id": "da5c9746-0eb1-4861-9c18-7affe8c444b1",
   "metadata": {},
   "source": [
    "Delete statement with condition\n",
    "DELETE FROM mytable\n",
    "WHERE condition;"
   ]
  },
  {
   "cell_type": "code",
   "execution_count": 4,
   "id": "aab78f82-3b63-48b1-8ac7-55777e5001b0",
   "metadata": {},
   "outputs": [
    {
     "name": "stdout",
     "output_type": "stream",
     "text": [
      "Opened database successfully\n"
     ]
    }
   ],
   "source": [
    "import pandas as pd\n",
    "\n",
    "import sqlite3\n",
    "conn = sqlite3.connect('test.db')\n",
    "print(\"Opened database successfully\")"
   ]
  },
  {
   "cell_type": "code",
   "execution_count": 5,
   "id": "e8e4535a-8068-4adc-bdee-477959a20976",
   "metadata": {},
   "outputs": [
    {
     "name": "stdout",
     "output_type": "stream",
     "text": [
      "(1, 'Toy Story', 'John Lasseter', 1995, 81)\n",
      "(2, \"A Bug's Life\", 'John Lasseter', 1998, 95)\n",
      "(3, 'Toy Story 2', 'John Lasseter', 1999, 93)\n",
      "(4, 'Monsters, Inc.', 'Pete Docter', 2001, 92)\n",
      "(5, 'Finding Nemo', 'Andrew Stanton', 2003, 107)\n",
      "(6, 'The Incredibles', 'Brad Bird', 2004, 116)\n",
      "(7, 'Cars', 'John Lasseter', 2006, 117)\n",
      "(8, 'Ratatouille', 'Brad Bird', 2007, 115)\n",
      "(9, 'WALL-E', 'Andrew Stanton', 2008, 104)\n",
      "(10, 'Up', 'Pete Docter', 2009, 101)\n",
      "(11, 'Toy Story 3', 'Lee Unkrich', 2010, 103)\n",
      "(12, 'Cars 2', 'John Lasseter', 2011, 120)\n",
      "(13, 'Brave', 'Brenda Chapman', 2012, 102)\n",
      "(14, 'Monsters University', 'Dan Scanlon', 2013, 110)\n"
     ]
    }
   ],
   "source": [
    "ret = conn.execute('''SELECT * FROM movies;''')\n",
    "for r in ret:\n",
    "    print(r)"
   ]
  },
  {
   "cell_type": "raw",
   "id": "a25b6a76-c416-452e-9025-819b9b15ada4",
   "metadata": {},
   "source": [
    "This database is getting too big, lets remove all movies that were released before 2005."
   ]
  },
  {
   "cell_type": "code",
   "execution_count": 6,
   "id": "fb06386a-6971-4085-8354-ee5d5650bed5",
   "metadata": {},
   "outputs": [
    {
     "ename": "OperationalError",
     "evalue": "database is locked",
     "output_type": "error",
     "traceback": [
      "\u001b[0;31m---------------------------------------------------------------------------\u001b[0m",
      "\u001b[0;31mOperationalError\u001b[0m                          Traceback (most recent call last)",
      "Cell \u001b[0;32mIn[6], line 1\u001b[0m\n\u001b[0;32m----> 1\u001b[0m ret \u001b[38;5;241m=\u001b[39m \u001b[43mconn\u001b[49m\u001b[38;5;241;43m.\u001b[39;49m\u001b[43mexecute\u001b[49m\u001b[43m(\u001b[49m\u001b[38;5;124;43m'''\u001b[39;49m\u001b[38;5;124;43mDelete from movies where year < 2005;\u001b[39;49m\u001b[38;5;124;43m'''\u001b[39;49m\u001b[43m)\u001b[49m\n\u001b[1;32m      2\u001b[0m ret \u001b[38;5;241m=\u001b[39m conn\u001b[38;5;241m.\u001b[39mexecute(\u001b[38;5;124m'''\u001b[39m\u001b[38;5;124mSELECT * FROM movies;\u001b[39m\u001b[38;5;124m'''\u001b[39m)\n\u001b[1;32m      3\u001b[0m \u001b[38;5;28;01mfor\u001b[39;00m r \u001b[38;5;129;01min\u001b[39;00m ret:\n",
      "\u001b[0;31mOperationalError\u001b[0m: database is locked"
     ]
    }
   ],
   "source": [
    "ret = conn.execute('''Delete from movies where year < 2005;''')\n",
    "ret = conn.execute('''SELECT * FROM movies;''')\n",
    "for r in ret:\n",
    "    print(r)"
   ]
  },
  {
   "cell_type": "raw",
   "id": "1772f066-8b42-43fc-8b82-632d5038bee6",
   "metadata": {},
   "source": [
    "Andrew Stanton has also left the studio, so please remove all movies directed by him."
   ]
  },
  {
   "cell_type": "code",
   "execution_count": 7,
   "id": "d25e30a0-8916-4a06-a444-3efcb0e39f37",
   "metadata": {},
   "outputs": [
    {
     "ename": "OperationalError",
     "evalue": "database is locked",
     "output_type": "error",
     "traceback": [
      "\u001b[0;31m---------------------------------------------------------------------------\u001b[0m",
      "\u001b[0;31mOperationalError\u001b[0m                          Traceback (most recent call last)",
      "Cell \u001b[0;32mIn[7], line 1\u001b[0m\n\u001b[0;32m----> 1\u001b[0m ret \u001b[38;5;241m=\u001b[39m \u001b[43mconn\u001b[49m\u001b[38;5;241;43m.\u001b[39;49m\u001b[43mexecute\u001b[49m\u001b[43m(\u001b[49m\u001b[38;5;124;43m'''\u001b[39;49m\u001b[38;5;124;43mDelete from movies where director = \u001b[39;49m\u001b[38;5;124;43m'\u001b[39;49m\u001b[38;5;124;43mAndrew Stanton\u001b[39;49m\u001b[38;5;124;43m'\u001b[39;49m\u001b[38;5;124;43m;\u001b[39;49m\u001b[38;5;124;43m'''\u001b[39;49m\u001b[43m)\u001b[49m\n\u001b[1;32m      2\u001b[0m ret \u001b[38;5;241m=\u001b[39m conn\u001b[38;5;241m.\u001b[39mexecute(\u001b[38;5;124m'''\u001b[39m\u001b[38;5;124mSELECT * FROM movies;\u001b[39m\u001b[38;5;124m'''\u001b[39m)\n\u001b[1;32m      3\u001b[0m \u001b[38;5;28;01mfor\u001b[39;00m r \u001b[38;5;129;01min\u001b[39;00m ret:\n",
      "\u001b[0;31mOperationalError\u001b[0m: database is locked"
     ]
    }
   ],
   "source": [
    "ret = conn.execute('''Delete from movies where director = 'Andrew Stanton';''')\n",
    "ret = conn.execute('''SELECT * FROM movies;''')\n",
    "for r in ret:\n",
    "    print(r)"
   ]
  }
 ],
 "metadata": {
  "kernelspec": {
   "display_name": "Python 3 (ipykernel)",
   "language": "python",
   "name": "python3"
  },
  "language_info": {
   "codemirror_mode": {
    "name": "ipython",
    "version": 3
   },
   "file_extension": ".py",
   "mimetype": "text/x-python",
   "name": "python",
   "nbconvert_exporter": "python",
   "pygments_lexer": "ipython3",
   "version": "3.10.4"
  }
 },
 "nbformat": 4,
 "nbformat_minor": 5
}
