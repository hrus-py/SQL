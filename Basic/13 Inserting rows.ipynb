{
 "cells": [
  {
   "cell_type": "raw",
   "id": "cc004076-a3d2-4f67-a5e1-40835c5b6ded",
   "metadata": {},
   "source": [
    "In SQL, the database schema is what describes the structure of each table, and the datatypes that each column of the table can contain.\n",
    "\n",
    "Insert statement with values for all columns\n",
    "INSERT INTO mytable\n",
    "VALUES (value_or_expr, another_value_or_expr, …),\n",
    "       (value_or_expr_2, another_value_or_expr_2, …),\n",
    "       …;"
   ]
  },
  {
   "cell_type": "raw",
   "id": "fb769319-7b64-4000-9baa-6ac377c740ec",
   "metadata": {},
   "source": [
    "Insert statement with specific columns\n",
    "INSERT INTO mytable\n",
    "(column, another_column, …)\n",
    "VALUES (value_or_expr, another_value_or_expr, …),\n",
    "      (value_or_expr_2, another_value_or_expr_2, …),\n",
    "      …;"
   ]
  },
  {
   "cell_type": "raw",
   "id": "4135a50e-621a-40ea-b404-53225cd8675b",
   "metadata": {},
   "source": [
    "Example Insert statement with expressions\n",
    "INSERT INTO boxoffice\n",
    "(movie_id, rating, sales_in_millions)\n",
    "VALUES (1, 9.9, 283742034 / 1000000);"
   ]
  },
  {
   "cell_type": "code",
   "execution_count": 1,
   "id": "b6a77e9f-4332-48ff-a1ff-1165a27c38f2",
   "metadata": {
    "tags": []
   },
   "outputs": [],
   "source": [
    "import pandas as pd"
   ]
  },
  {
   "cell_type": "code",
   "execution_count": 2,
   "id": "07477963-4d02-4fb2-90ed-f993f144b058",
   "metadata": {
    "tags": []
   },
   "outputs": [
    {
     "name": "stdout",
     "output_type": "stream",
     "text": [
      "Opened database successfully\n"
     ]
    }
   ],
   "source": [
    "import sqlite3\n",
    "conn = sqlite3.connect('test.db')\n",
    "print(\"Opened database successfully\")"
   ]
  },
  {
   "cell_type": "code",
   "execution_count": 3,
   "id": "d490cc46-487b-4069-94a7-a317743296e8",
   "metadata": {},
   "outputs": [
    {
     "name": "stdout",
     "output_type": "stream",
     "text": [
      "(1, 'Toy Story', 'John Lasseter', 1995, 81)\n",
      "(2, \"A Bug's Life\", 'John Lasseter', 1998, 95)\n",
      "(3, 'Toy Story 2', 'John Lasseter', 1999, 93)\n",
      "(4, 'Monsters, Inc.', 'Pete Docter', 2001, 92)\n",
      "(5, 'Finding Nemo', 'Andrew Stanton', 2003, 107)\n",
      "(6, 'The Incredibles', 'Brad Bird', 2004, 116)\n",
      "(7, 'Cars', 'John Lasseter', 2006, 117)\n",
      "(8, 'Ratatouille', 'Brad Bird', 2007, 115)\n",
      "(9, 'WALL-E', 'Andrew Stanton', 2008, 104)\n",
      "(10, 'Up', 'Pete Docter', 2009, 101)\n",
      "(11, 'Toy Story 3', 'Lee Unkrich', 2010, 103)\n",
      "(12, 'Cars 2', 'John Lasseter', 2011, 120)\n",
      "(13, 'Brave', 'Brenda Chapman', 2012, 102)\n",
      "(14, 'Monsters University', 'Dan Scanlon', 2013, 110)\n"
     ]
    }
   ],
   "source": [
    "ret = conn.execute('''SELECT * FROM movies;''')\n",
    "for r in ret:\n",
    "    print(r)"
   ]
  },
  {
   "cell_type": "code",
   "execution_count": 4,
   "id": "6eec9f43-c26b-4a90-a6f9-1fa3dd350184",
   "metadata": {},
   "outputs": [
    {
     "name": "stdout",
     "output_type": "stream",
     "text": [
      "(5, 8.2, 380843261, 555900000)\n",
      "(14, 7.4, 268492764, 475066843)\n",
      "(8, 8.0, 206445654, 417277164)\n",
      "(12, 6.4, 191452396, 368400000)\n",
      "(3, 7.9, 245852179, 239163000)\n",
      "(6, 8.0, 261441092, 370001000)\n",
      "(9, 8.5, 223808164, 297503696)\n",
      "(11, 8.4, 415004880, 648167031)\n",
      "(1, 8.3, 191796233, 170162503)\n",
      "(7, 7.2, 244082982, 217900167)\n",
      "(10, 8.3, 293004164, 438338580)\n",
      "(4, 8.1, 289916256, 272900000)\n",
      "(2, 7.2, 162798565, 200600000)\n",
      "(13, 7.2, 237283207, 301700000)\n"
     ]
    }
   ],
   "source": [
    "ret = conn.execute('''SELECT * FROM boxoffice;''')\n",
    "for r in ret:\n",
    "    print(r)"
   ]
  },
  {
   "cell_type": "raw",
   "id": "aa0e308a-7186-4a6e-abfc-3820813b3f5c",
   "metadata": {},
   "source": [
    "Add the studio's new production, Toy Story 4 to the list of movies (you can use any director)"
   ]
  },
  {
   "cell_type": "code",
   "execution_count": 5,
   "id": "8a50bb0a-5332-4407-aa10-e696ba267d5d",
   "metadata": {},
   "outputs": [
    {
     "name": "stdout",
     "output_type": "stream",
     "text": [
      "Inser Sucessful\n",
      "(1, 'Toy Story', 'John Lasseter', 1995, 81)\n",
      "(2, \"A Bug's Life\", 'John Lasseter', 1998, 95)\n",
      "(3, 'Toy Story 2', 'John Lasseter', 1999, 93)\n",
      "(4, 'Monsters, Inc.', 'Pete Docter', 2001, 92)\n",
      "(5, 'Finding Nemo', 'Andrew Stanton', 2003, 107)\n",
      "(6, 'The Incredibles', 'Brad Bird', 2004, 116)\n",
      "(7, 'Cars', 'John Lasseter', 2006, 117)\n",
      "(8, 'Ratatouille', 'Brad Bird', 2007, 115)\n",
      "(9, 'WALL-E', 'Andrew Stanton', 2008, 104)\n",
      "(10, 'Up', 'Pete Docter', 2009, 101)\n",
      "(11, 'Toy Story 3', 'Lee Unkrich', 2010, 103)\n",
      "(12, 'Cars 2', 'John Lasseter', 2011, 120)\n",
      "(13, 'Brave', 'Brenda Chapman', 2012, 102)\n",
      "(14, 'Monsters University', 'Dan Scanlon', 2013, 110)\n",
      "(15, 'Toy Story 4', 'John Lasseter', None, None)\n"
     ]
    }
   ],
   "source": [
    "ret = conn.execute('''Insert into movies (id,title,director) values (15,'Toy Story 4','John Lasseter')''')\n",
    "print(\"Insert Sucessful\")\n",
    "ret = conn.execute('''Select * from movies;''')\n",
    "for r in ret:\n",
    "    print(r)"
   ]
  },
  {
   "cell_type": "raw",
   "id": "2cf97e3f-ac5c-4191-8f3e-6bc424cffa5e",
   "metadata": {},
   "source": [
    "Toy Story 4 has been released to critical acclaim! It had a rating of 8.7, and made 340 million domestically and 270 million internationally. Add the record to the BoxOffice table."
   ]
  },
  {
   "cell_type": "code",
   "execution_count": 7,
   "id": "7412ad1f-e3ab-4ca2-a287-52613428f9a1",
   "metadata": {},
   "outputs": [
    {
     "name": "stdout",
     "output_type": "stream",
     "text": [
      "Insert Sucessful\n",
      "(5, 8.2, 380843261, 555900000)\n",
      "(14, 7.4, 268492764, 475066843)\n",
      "(8, 8.0, 206445654, 417277164)\n",
      "(12, 6.4, 191452396, 368400000)\n",
      "(3, 7.9, 245852179, 239163000)\n",
      "(6, 8.0, 261441092, 370001000)\n",
      "(9, 8.5, 223808164, 297503696)\n",
      "(11, 8.4, 415004880, 648167031)\n",
      "(1, 8.3, 191796233, 170162503)\n",
      "(7, 7.2, 244082982, 217900167)\n",
      "(10, 8.3, 293004164, 438338580)\n",
      "(4, 8.1, 289916256, 272900000)\n",
      "(2, 7.2, 162798565, 200600000)\n",
      "(13, 7.2, 237283207, 301700000)\n",
      "(15, 8.7, 340000000, 270000000)\n",
      "(15, 8.7, 340000000, 270000000)\n"
     ]
    }
   ],
   "source": [
    "ret = conn.execute('''Insert into boxoffice values (15,8.7,340000000,270000000)''')\n",
    "print(\"Insert Sucessful\")\n",
    "ret = conn.execute('''Select * from boxoffice;''')\n",
    "for r in ret:\n",
    "    print(r)"
   ]
  }
 ],
 "metadata": {
  "kernelspec": {
   "display_name": "Python 3 (ipykernel)",
   "language": "python",
   "name": "python3"
  },
  "language_info": {
   "codemirror_mode": {
    "name": "ipython",
    "version": 3
   },
   "file_extension": ".py",
   "mimetype": "text/x-python",
   "name": "python",
   "nbconvert_exporter": "python",
   "pygments_lexer": "ipython3",
   "version": "3.10.4"
  }
 },
 "nbformat": 4,
 "nbformat_minor": 5
}
