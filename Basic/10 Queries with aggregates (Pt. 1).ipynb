{
 "cells": [
  {
   "cell_type": "raw",
   "id": "8be978cc-0185-46d2-bfcb-0122f3482da2",
   "metadata": {},
   "source": [
    "Select query with aggregate functions over all rows\n",
    "SELECT AGG_FUNC(column_or_expression) AS aggregate_description, …\n",
    "FROM mytable\n",
    "WHERE constraint_expression;"
   ]
  },
  {
   "cell_type": "raw",
   "id": "a3e696fc-ecc8-4753-8d77-56b5c8d90c64",
   "metadata": {},
   "source": [
    "Common aggregate functions\n",
    "\n",
    "Function\t        Description\n",
    "COUNT(*),           A common function used to counts the number of rows in the group if no column name is specified.\n",
    "COUNT(column)\t    Otherwise, count the number of rows in the group with non-NULL values in the specified column.\n",
    "MIN(column)\t        Finds the smallest numerical value in the specified column for all rows in the group.\n",
    "MAX(column)\t        Finds the largest numerical value in the specified column for all rows in the group.\n",
    "AVG(column)\t        Finds the average numerical value in the specified column for all rows in the group.\n",
    "SUM(column)\t        Finds the sum of all numerical values in the specified column for the rows in the group."
   ]
  },
  {
   "cell_type": "raw",
   "id": "422f5adf-cdf4-4e73-9fbc-8097435d5f6e",
   "metadata": {},
   "source": [
    "Grouped aggregate functions\n",
    "\n",
    "Select query with aggregate functions over groups\n",
    "SELECT AGG_FUNC(column_or_expression) AS aggregate_description, …\n",
    "FROM mytable\n",
    "WHERE constraint_expression\n",
    "GROUP BY column;"
   ]
  },
  {
   "cell_type": "code",
   "execution_count": 1,
   "id": "54ffce0f-b6de-45dc-a7fb-ea362af67219",
   "metadata": {},
   "outputs": [],
   "source": [
    "import pandas as pd"
   ]
  },
  {
   "cell_type": "code",
   "execution_count": 3,
   "id": "333828c8-30ba-49f3-a800-320191625500",
   "metadata": {},
   "outputs": [
    {
     "name": "stdout",
     "output_type": "stream",
     "text": [
      "Opened database successfully\n"
     ]
    }
   ],
   "source": [
    "import sqlite3\n",
    "conn = sqlite3.connect('test.db')\n",
    "print(\"Opened database successfully\")"
   ]
  },
  {
   "cell_type": "code",
   "execution_count": 4,
   "id": "e435f82a-a278-4b77-a945-3ab66beff603",
   "metadata": {},
   "outputs": [
    {
     "name": "stdout",
     "output_type": "stream",
     "text": [
      "('Engineer', 'Becky A.', '1e', 4)\n",
      "('Engineer', 'Dan B.', '1e', 2)\n",
      "('Engineer', 'Sharon F.', '1e', 6)\n",
      "('Engineer', 'Dan M.', '1e', 4)\n",
      "('Engineer', 'Malcom S.', '1e', 1)\n",
      "('Artist', 'Tylar S.', '2w', 2)\n",
      "('Artist', 'Sherman D.', '2w', 8)\n",
      "('Artist', 'Jakob J.', '2w', 6)\n",
      "('Artist', 'Lillia A.', '2w', 7)\n",
      "('Artist', 'Brandon J.', '2w', 7)\n",
      "('Manager', 'Scott K.', '1e', 9)\n",
      "('Manager', 'Shirlee M.', '1e', 3)\n",
      "('Manager', 'Daria O.', '2w', 6)\n"
     ]
    }
   ],
   "source": [
    "ret = conn.execute('''SELECT * FROM employees;''')\n",
    "for r in ret:\n",
    "    print(r)"
   ]
  },
  {
   "cell_type": "raw",
   "id": "59465fe7-5592-4e7d-84fc-73f2a1a43acb",
   "metadata": {},
   "source": [
    "Find the longest time that an employee has been at the studio"
   ]
  },
  {
   "cell_type": "code",
   "execution_count": 7,
   "id": "db897bad-c305-4f37-b7d1-588f5ef30878",
   "metadata": {},
   "outputs": [
    {
     "name": "stdout",
     "output_type": "stream",
     "text": [
      "(('max(years_employed)', None, None, None, None, None, None),)\n",
      "(9,)\n"
     ]
    }
   ],
   "source": [
    "ret = conn.execute('''SELECT max(years_employed) FROM employees;''')\n",
    "for r in ret:\n",
    "    print(r)"
   ]
  },
  {
   "cell_type": "raw",
   "id": "13b0655b-d905-42db-9836-4812b2c60ada",
   "metadata": {},
   "source": [
    "For each role, find the average number of years employed by employees in that role"
   ]
  },
  {
   "cell_type": "code",
   "execution_count": 6,
   "id": "a89b5e5c-9c82-40db-9bcd-0cb8fe1eb0ce",
   "metadata": {},
   "outputs": [
    {
     "name": "stdout",
     "output_type": "stream",
     "text": [
      "('Artist', 6.0)\n",
      "('Engineer', 3.4)\n",
      "('Manager', 6.0)\n"
     ]
    }
   ],
   "source": [
    "ret = conn.execute('''SELECT role,avg(years_employed) FROM employees group by role;''')\n",
    "for r in ret:\n",
    "    print(r)"
   ]
  },
  {
   "cell_type": "raw",
   "id": "7dbe3c55-74c2-4a41-a4d9-4e53ce8accea",
   "metadata": {},
   "source": [
    "Find the total number of employee years worked in each building"
   ]
  },
  {
   "cell_type": "code",
   "execution_count": 8,
   "id": "1e2db54e-b069-4a3e-811a-9c72522d63a3",
   "metadata": {},
   "outputs": [
    {
     "name": "stdout",
     "output_type": "stream",
     "text": [
      "('1e', 29)\n",
      "('2w', 36)\n"
     ]
    }
   ],
   "source": [
    "ret = conn.execute('''SELECT building,sum(years_employed) FROM employees group by building;''')\n",
    "for r in ret:\n",
    "    print(r)"
   ]
  },
  {
   "cell_type": "code",
   "execution_count": null,
   "id": "fbf26b6c-9157-4a55-84a1-ec2b42bca31e",
   "metadata": {},
   "outputs": [],
   "source": [
    "conn.close()"
   ]
  }
 ],
 "metadata": {
  "kernelspec": {
   "display_name": "Python 3 (ipykernel)",
   "language": "python",
   "name": "python3"
  },
  "language_info": {
   "codemirror_mode": {
    "name": "ipython",
    "version": 3
   },
   "file_extension": ".py",
   "mimetype": "text/x-python",
   "name": "python",
   "nbconvert_exporter": "python",
   "pygments_lexer": "ipython3",
   "version": "3.10.4"
  }
 },
 "nbformat": 4,
 "nbformat_minor": 5
}
