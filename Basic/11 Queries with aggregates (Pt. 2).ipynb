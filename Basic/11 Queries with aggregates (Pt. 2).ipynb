{
 "cells": [
  {
   "cell_type": "raw",
   "id": "a91e73ff-daf8-4dd7-a8f6-463e8e059fff",
   "metadata": {},
   "source": [
    "Select query with HAVING constraint\n",
    "SELECT group_by_column, AGG_FUNC(column_expression) AS aggregate_result_alias, …\n",
    "FROM mytable\n",
    "WHERE condition\n",
    "GROUP BY column\n",
    "HAVING group_condition;"
   ]
  },
  {
   "cell_type": "raw",
   "id": "b3d783f3-36b4-4c43-bc4a-62969760eeaa",
   "metadata": {},
   "source": [
    "The HAVING clause constraints are written the same way as the WHERE clause constraints, and are applied to the grouped rows."
   ]
  },
  {
   "cell_type": "code",
   "execution_count": 1,
   "id": "f50693ca-f8a6-43a5-b474-fd99cf7ae40e",
   "metadata": {},
   "outputs": [],
   "source": [
    "import pandas as pd"
   ]
  },
  {
   "cell_type": "code",
   "execution_count": 2,
   "id": "439771e7-0027-463c-bf02-412ef155caa7",
   "metadata": {},
   "outputs": [
    {
     "name": "stdout",
     "output_type": "stream",
     "text": [
      "Opened database successfully\n"
     ]
    }
   ],
   "source": [
    "import sqlite3\n",
    "conn = sqlite3.connect('test.db')\n",
    "print(\"Opened database successfully\")"
   ]
  },
  {
   "cell_type": "code",
   "execution_count": 12,
   "id": "bad9d5dd-260f-480c-b4a3-ead03e595562",
   "metadata": {},
   "outputs": [
    {
     "name": "stdout",
     "output_type": "stream",
     "text": [
      "('Engineer', 'Becky A.', '1e', 4)\n",
      "('Engineer', 'Dan B.', '1e', 2)\n",
      "('Engineer', 'Sharon F.', '1e', 6)\n",
      "('Engineer', 'Dan M.', '1e', 4)\n",
      "('Engineer', 'Malcom S.', '1e', 1)\n",
      "('Artist', 'Tylar S.', '2w', 2)\n",
      "('Artist', 'Sherman D.', '2w', 8)\n",
      "('Artist', 'Jakob J.', '2w', 6)\n",
      "('Artist', 'Lillia A.', '2w', 7)\n",
      "('Artist', 'Brandon J.', '2w', 7)\n",
      "('Manager', 'Scott K.', '1e', 9)\n",
      "('Manager', 'Shirlee M.', '1e', 3)\n",
      "('Manager', 'Daria O.', '2w', 6)\n"
     ]
    }
   ],
   "source": [
    "ret = conn.execute('''SELECT * FROM employees;''')\n",
    "for r in ret:\n",
    "    print(r)"
   ]
  },
  {
   "cell_type": "raw",
   "id": "09020af2-ef20-4e94-8ac5-342f444069d8",
   "metadata": {},
   "source": [
    "Find the number of Artists in the studio (without a HAVING clause)"
   ]
  },
  {
   "cell_type": "code",
   "execution_count": 15,
   "id": "4fc24af9-4344-42bf-8983-62cd32401cae",
   "metadata": {},
   "outputs": [
    {
     "name": "stdout",
     "output_type": "stream",
     "text": [
      "('Artist', 5)\n"
     ]
    }
   ],
   "source": [
    "ret = conn.execute('''SELECT role,count(name) FROM employees where role='Artist';''')\n",
    "for r in ret:\n",
    "    print(r)"
   ]
  },
  {
   "cell_type": "raw",
   "id": "1d43d9c1-af0a-4df2-ada5-950787dbba2d",
   "metadata": {},
   "source": [
    "Find the number of Employees of each role in the studio"
   ]
  },
  {
   "cell_type": "code",
   "execution_count": 13,
   "id": "cadad28e-2946-4345-8337-a3410fb84c16",
   "metadata": {},
   "outputs": [
    {
     "name": "stdout",
     "output_type": "stream",
     "text": [
      "('Artist', 5)\n",
      "('Engineer', 5)\n",
      "('Manager', 3)\n"
     ]
    }
   ],
   "source": [
    "ret = conn.execute('''SELECT role, count(name) FROM employees group by role;''')\n",
    "for r in ret:\n",
    "    print(r)"
   ]
  },
  {
   "cell_type": "raw",
   "id": "f3d294af-7d6e-4584-a762-fba2daad4320",
   "metadata": {},
   "source": [
    "Find the total number of years employed by all Engineers"
   ]
  },
  {
   "cell_type": "code",
   "execution_count": 18,
   "id": "048a86be-4116-4079-b848-e3f3fa4303d6",
   "metadata": {},
   "outputs": [
    {
     "name": "stdout",
     "output_type": "stream",
     "text": [
      "('Engineer', 17)\n"
     ]
    }
   ],
   "source": [
    "ret = conn.execute('''SELECT role,sum(years_employed) FROM employees where role='Engineer';''')\n",
    "for r in ret:\n",
    "    print(r)"
   ]
  },
  {
   "cell_type": "code",
   "execution_count": 19,
   "id": "e64997c0-b9a7-47c0-a674-5d557afc4435",
   "metadata": {},
   "outputs": [
    {
     "name": "stdout",
     "output_type": "stream",
     "text": [
      "('Engineer', 17)\n"
     ]
    }
   ],
   "source": [
    "ret = conn.execute('''SELECT role,sum(years_employed) FROM employees group by role having role='Engineer';''')\n",
    "for r in ret:\n",
    "    print(r)"
   ]
  }
 ],
 "metadata": {
  "kernelspec": {
   "display_name": "Python 3 (ipykernel)",
   "language": "python",
   "name": "python3"
  },
  "language_info": {
   "codemirror_mode": {
    "name": "ipython",
    "version": 3
   },
   "file_extension": ".py",
   "mimetype": "text/x-python",
   "name": "python",
   "nbconvert_exporter": "python",
   "pygments_lexer": "ipython3",
   "version": "3.10.4"
  }
 },
 "nbformat": 4,
 "nbformat_minor": 5
}
