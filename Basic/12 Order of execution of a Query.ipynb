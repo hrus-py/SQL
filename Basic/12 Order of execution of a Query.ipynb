{
 "cells": [
  {
   "cell_type": "raw",
   "id": "ac52385b-cc2b-43e1-9a15-d420aa031877",
   "metadata": {},
   "source": [
    "Complete SELECT query\n",
    "SELECT DISTINCT column, AGG_FUNC(column_or_expression), …\n",
    "FROM mytable\n",
    "    JOIN another_table\n",
    "      ON mytable.column = another_table.column\n",
    "    WHERE constraint_expression\n",
    "    GROUP BY column\n",
    "    HAVING constraint_expression\n",
    "    ORDER BY column ASC/DESC\n",
    "    LIMIT count OFFSET COUNT;"
   ]
  },
  {
   "cell_type": "raw",
   "id": "40497f29-5578-4b5d-8274-e5913874afa8",
   "metadata": {},
   "source": [
    "1. FROM and JOINs\n",
    "2. WHERE\n",
    "3. GROUP BY\n",
    "4. HAVING\n",
    "5. SELECT\n",
    "6. DISTINCT\n",
    "7. ORDER BY\n",
    "8. LIMIT / OFFSET"
   ]
  },
  {
   "cell_type": "code",
   "execution_count": 1,
   "id": "8d517609-2006-45a1-9ba4-c65162c55caf",
   "metadata": {},
   "outputs": [],
   "source": [
    "import pandas as pd"
   ]
  },
  {
   "cell_type": "code",
   "execution_count": 2,
   "id": "296a6924-67a2-4754-8361-9b59e01c65a6",
   "metadata": {},
   "outputs": [
    {
     "name": "stdout",
     "output_type": "stream",
     "text": [
      "Opened database successfully\n"
     ]
    }
   ],
   "source": [
    "import sqlite3\n",
    "conn = sqlite3.connect('test.db')\n",
    "print(\"Opened database successfully\")"
   ]
  },
  {
   "cell_type": "code",
   "execution_count": 3,
   "id": "973359d4-68b7-4008-97e3-ce80bbd694e3",
   "metadata": {
    "tags": []
   },
   "outputs": [
    {
     "name": "stdout",
     "output_type": "stream",
     "text": [
      "(1, 'Toy Story', 'John Lasseter', 1995, 81)\n",
      "(2, \"A Bug's Life\", 'John Lasseter', 1998, 95)\n",
      "(3, 'Toy Story 2', 'John Lasseter', 1999, 93)\n",
      "(4, 'Monsters, Inc.', 'Pete Docter', 2001, 92)\n",
      "(5, 'Finding Nemo', 'Andrew Stanton', 2003, 107)\n",
      "(6, 'The Incredibles', 'Brad Bird', 2004, 116)\n",
      "(7, 'Cars', 'John Lasseter', 2006, 117)\n",
      "(8, 'Ratatouille', 'Brad Bird', 2007, 115)\n",
      "(9, 'WALL-E', 'Andrew Stanton', 2008, 104)\n",
      "(10, 'Up', 'Pete Docter', 2009, 101)\n",
      "(11, 'Toy Story 3', 'Lee Unkrich', 2010, 103)\n",
      "(12, 'Cars 2', 'John Lasseter', 2011, 120)\n",
      "(13, 'Brave', 'Brenda Chapman', 2012, 102)\n",
      "(14, 'Monsters University', 'Dan Scanlon', 2013, 110)\n"
     ]
    }
   ],
   "source": [
    "ret = conn.execute('''SELECT * FROM movies;''')\n",
    "for r in ret:\n",
    "    print(r)"
   ]
  },
  {
   "cell_type": "code",
   "execution_count": 4,
   "id": "9b91a5f7-9daf-43fe-a76d-087cb5bbc52f",
   "metadata": {},
   "outputs": [
    {
     "name": "stdout",
     "output_type": "stream",
     "text": [
      "(5, 8.2, 380843261, 555900000)\n",
      "(14, 7.4, 268492764, 475066843)\n",
      "(8, 8.0, 206445654, 417277164)\n",
      "(12, 6.4, 191452396, 368400000)\n",
      "(3, 7.9, 245852179, 239163000)\n",
      "(6, 8.0, 261441092, 370001000)\n",
      "(9, 8.5, 223808164, 297503696)\n",
      "(11, 8.4, 415004880, 648167031)\n",
      "(1, 8.3, 191796233, 170162503)\n",
      "(7, 7.2, 244082982, 217900167)\n",
      "(10, 8.3, 293004164, 438338580)\n",
      "(4, 8.1, 289916256, 272900000)\n",
      "(2, 7.2, 162798565, 200600000)\n",
      "(13, 7.2, 237283207, 301700000)\n"
     ]
    }
   ],
   "source": [
    "ret = conn.execute('''SELECT * FROM boxoffice;''')\n",
    "for r in ret:\n",
    "    print(r)"
   ]
  },
  {
   "cell_type": "raw",
   "id": "9661ddaa-da76-4c59-89be-9cdb677ed9ae",
   "metadata": {},
   "source": [
    "Find the number of movies each director has directed"
   ]
  },
  {
   "cell_type": "code",
   "execution_count": 5,
   "id": "12a277dc-22d2-46a5-8853-c6c5674b3269",
   "metadata": {},
   "outputs": [
    {
     "name": "stdout",
     "output_type": "stream",
     "text": [
      "('Andrew Stanton', 2)\n",
      "('Brad Bird', 2)\n",
      "('Brenda Chapman', 1)\n",
      "('Dan Scanlon', 1)\n",
      "('John Lasseter', 5)\n",
      "('Lee Unkrich', 1)\n",
      "('Pete Docter', 2)\n"
     ]
    }
   ],
   "source": [
    "ret = conn.execute('''SELECT director,count(title) as moives FROM movies group by director;''')\n",
    "for r in ret:\n",
    "    print(r)"
   ]
  },
  {
   "cell_type": "raw",
   "id": "b13a13da-4c85-4978-a056-b6eec413b590",
   "metadata": {},
   "source": [
    "Find the total domestic and international sales that can be attributed to each director"
   ]
  },
  {
   "cell_type": "code",
   "execution_count": 6,
   "id": "9addc58d-6f0d-4299-bda2-0d7587628211",
   "metadata": {},
   "outputs": [
    {
     "name": "stdout",
     "output_type": "stream",
     "text": [
      "('Andrew Stanton', 1458055121)\n",
      "('Brad Bird', 1255164910)\n",
      "('Brenda Chapman', 538983207)\n",
      "('Dan Scanlon', 743559607)\n",
      "('John Lasseter', 2232208025)\n",
      "('Lee Unkrich', 1063171911)\n",
      "('Pete Docter', 1294159000)\n"
     ]
    }
   ],
   "source": [
    "ret = conn.execute('''SELECT director,sum(domestic_sales + international_sales) as t_sale FROM movies inner join boxoffice on id=movie_id group by director;''')\n",
    "for r in ret:\n",
    "    print(r)\n",
    "    "
   ]
  }
 ],
 "metadata": {
  "kernelspec": {
   "display_name": "Python 3 (ipykernel)",
   "language": "python",
   "name": "python3"
  },
  "language_info": {
   "codemirror_mode": {
    "name": "ipython",
    "version": 3
   },
   "file_extension": ".py",
   "mimetype": "text/x-python",
   "name": "python",
   "nbconvert_exporter": "python",
   "pygments_lexer": "ipython3",
   "version": "3.10.4"
  }
 },
 "nbformat": 4,
 "nbformat_minor": 5
}
