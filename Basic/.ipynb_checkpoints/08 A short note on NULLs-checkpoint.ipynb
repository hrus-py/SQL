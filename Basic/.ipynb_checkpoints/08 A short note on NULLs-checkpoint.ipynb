{
 "cells": [
  {
   "cell_type": "raw",
   "id": "75a4ce58-e063-4f62-80b3-74d6ec53a0cd",
   "metadata": {},
   "source": [
    "An alternative to NULL values in your database is to have data-type appropriate default values.\n",
    "\n",
    "But if your database needs to store incomplete data, then NULL values can be appropriate if the default values will skew later analysis."
   ]
  },
  {
   "cell_type": "raw",
   "id": "8bf427a8-5f9a-46ab-b6b8-1355c07e12f4",
   "metadata": {},
   "source": [
    "Select query with constraints on NULL values\n",
    "SELECT column, another_column, …\n",
    "FROM mytable\n",
    "WHERE column IS/IS NOT NULL\n",
    "AND/OR another_condition\n",
    "AND/OR …;"
   ]
  },
  {
   "cell_type": "code",
   "execution_count": 1,
   "id": "33009aa9-b3f4-4f7a-b84c-c1ae9c928863",
   "metadata": {},
   "outputs": [],
   "source": [
    "import pandas as pd"
   ]
  },
  {
   "cell_type": "code",
   "execution_count": 2,
   "id": "5e5d6ec5-64cc-4a0c-b6bc-78153748f0d2",
   "metadata": {},
   "outputs": [
    {
     "name": "stdout",
     "output_type": "stream",
     "text": [
      "Opened database successfully\n"
     ]
    }
   ],
   "source": [
    "import sqlite3\n",
    "conn = sqlite3.connect('test.db')\n",
    "print(\"Opened database successfully\")"
   ]
  },
  {
   "cell_type": "code",
   "execution_count": 3,
   "id": "f998a207-4c27-4af5-a98a-5f5e67dd8f53",
   "metadata": {},
   "outputs": [
    {
     "name": "stdout",
     "output_type": "stream",
     "text": [
      "('Engineer', 'Becky A.', '1e', 4)\n",
      "('Engineer', 'Dan B.', '1e', 2)\n",
      "('Engineer', 'Sharon F.', '1e', 6)\n",
      "('Engineer', 'Dan M.', '1e', 4)\n",
      "('Engineer', 'Malcom S.', '1e', 1)\n",
      "('Artist', 'Tylar S.', '2w', 2)\n",
      "('Artist', 'Sherman D.', '2w', 8)\n",
      "('Artist', 'Jakob J.', '2w', 6)\n",
      "('Artist', 'Lillia A.', '2w', 7)\n",
      "('Artist', 'Brandon J.', '2w', 7)\n",
      "('Manager', 'Scott K.', '1e', 9)\n",
      "('Manager', 'Shirlee M.', '1e', 3)\n",
      "('Manager', 'Daria O.', '2w', 6)\n"
     ]
    }
   ],
   "source": [
    "ret = conn.execute('''SELECT * FROM employees;''')\n",
    "for r in ret:\n",
    "    print(r)"
   ]
  },
  {
   "cell_type": "code",
   "execution_count": 7,
   "id": "64400e0e-8195-406f-9556-7082630c754f",
   "metadata": {},
   "outputs": [
    {
     "data": {
      "text/plain": [
       "<sqlite3.Cursor at 0x7fe1a45eefc0>"
      ]
     },
     "execution_count": 7,
     "metadata": {},
     "output_type": "execute_result"
    }
   ],
   "source": [
    "conn.execute('''INSERT INTO employees (role,name,years_employed) values('Engineer','Yancy I.',0);''')\n",
    "conn.execute('''INSERT INTO employees (role,name,years_employed) values('Artist','Oliver P.',0);''')"
   ]
  },
  {
   "cell_type": "code",
   "execution_count": 8,
   "id": "c3132969-2c9d-4592-9cb0-b54e39c95d5a",
   "metadata": {},
   "outputs": [
    {
     "name": "stdout",
     "output_type": "stream",
     "text": [
      "('Engineer', 'Becky A.', '1e', 4)\n",
      "('Engineer', 'Dan B.', '1e', 2)\n",
      "('Engineer', 'Sharon F.', '1e', 6)\n",
      "('Engineer', 'Dan M.', '1e', 4)\n",
      "('Engineer', 'Malcom S.', '1e', 1)\n",
      "('Artist', 'Tylar S.', '2w', 2)\n",
      "('Artist', 'Sherman D.', '2w', 8)\n",
      "('Artist', 'Jakob J.', '2w', 6)\n",
      "('Artist', 'Lillia A.', '2w', 7)\n",
      "('Artist', 'Brandon J.', '2w', 7)\n",
      "('Manager', 'Scott K.', '1e', 9)\n",
      "('Manager', 'Shirlee M.', '1e', 3)\n",
      "('Manager', 'Daria O.', '2w', 6)\n",
      "('Engineer', 'Yancy I.', None, 0)\n",
      "('Artist', 'Oliver P.', None, 0)\n"
     ]
    }
   ],
   "source": [
    "ret = conn.execute('''SELECT * FROM employees;''')\n",
    "for r in ret:\n",
    "    print(r)"
   ]
  },
  {
   "cell_type": "code",
   "execution_count": 4,
   "id": "84e21e08-1f1a-4fc1-be13-af500eecf31f",
   "metadata": {},
   "outputs": [
    {
     "name": "stdout",
     "output_type": "stream",
     "text": [
      "('1e', 24)\n",
      "('1w', 32)\n",
      "('2e', 16)\n",
      "('2w', 20)\n"
     ]
    }
   ],
   "source": [
    "ret = conn.execute('''SELECT * FROM buildings;''')\n",
    "for r in ret:\n",
    "    print(r)"
   ]
  },
  {
   "cell_type": "raw",
   "id": "0ae81c8c-b3c0-4ee0-844d-1bf79cc33257",
   "metadata": {},
   "source": [
    "Find the name and role of all employees who have not been assigned to a building"
   ]
  },
  {
   "cell_type": "code",
   "execution_count": 5,
   "id": "2e0ad65b-10d1-4f8b-a798-6fffea71ce9e",
   "metadata": {},
   "outputs": [],
   "source": [
    "ret = conn.execute('''SELECT name,role FROM employees where building is NULL;''')\n",
    "for r in ret:\n",
    "    print(r)"
   ]
  },
  {
   "cell_type": "raw",
   "id": "3fbd321e-0a34-4eba-9b4c-29bf192aebd3",
   "metadata": {},
   "source": [
    "Find the names of the buildings that hold no employees"
   ]
  },
  {
   "cell_type": "code",
   "execution_count": 9,
   "id": "a200c829-5360-4844-ab45-67116e7e227c",
   "metadata": {},
   "outputs": [
    {
     "name": "stdout",
     "output_type": "stream",
     "text": [
      "('1w', 32, None, None, None, None)\n",
      "('2e', 16, None, None, None, None)\n"
     ]
    }
   ],
   "source": [
    "ret = conn.execute('''SELECT building_name FROM buildings left join employees on building_name=building where role is null;''')\n",
    "for r in ret:\n",
    "    print(r)"
   ]
  },
  {
   "cell_type": "code",
   "execution_count": null,
   "id": "586f4fb7-149c-4001-bb55-1e012dd18f41",
   "metadata": {},
   "outputs": [],
   "source": []
  }
 ],
 "metadata": {
  "kernelspec": {
   "display_name": "Python 3 (ipykernel)",
   "language": "python",
   "name": "python3"
  },
  "language_info": {
   "codemirror_mode": {
    "name": "ipython",
    "version": 3
   },
   "file_extension": ".py",
   "mimetype": "text/x-python",
   "name": "python",
   "nbconvert_exporter": "python",
   "pygments_lexer": "ipython3",
   "version": "3.10.4"
  }
 },
 "nbformat": 4,
 "nbformat_minor": 5
}
