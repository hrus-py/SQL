{
 "cells": [
  {
   "cell_type": "raw",
   "id": "77fe44ff-6fea-4d6d-abac-63f49c40b201",
   "metadata": {
    "tags": []
   },
   "source": [
    "Update statement with values\n",
    "UPDATE mytable\n",
    "SET column = value_or_expr, \n",
    "    other_column = another_value_or_expr, \n",
    "    …\n",
    "WHERE condition;"
   ]
  },
  {
   "cell_type": "code",
   "execution_count": 7,
   "id": "d5653cd4-37f3-4ac1-a12a-7b5aa7c037cb",
   "metadata": {},
   "outputs": [],
   "source": [
    "import pandas as pd"
   ]
  },
  {
   "cell_type": "code",
   "execution_count": 8,
   "id": "6da6cd17-1894-45d8-8924-5a936c17cde2",
   "metadata": {},
   "outputs": [
    {
     "name": "stdout",
     "output_type": "stream",
     "text": [
      "Opened database successfully\n"
     ]
    }
   ],
   "source": [
    "import sqlite3\n",
    "conn = sqlite3.connect('test.db')\n",
    "print(\"Opened database successfully\")"
   ]
  },
  {
   "cell_type": "code",
   "execution_count": 9,
   "id": "56ac6799-f637-4cde-a99f-4738e25b09f7",
   "metadata": {},
   "outputs": [
    {
     "name": "stdout",
     "output_type": "stream",
     "text": [
      "(1, 'Toy Story', 'John Lasseter', 1995, 81)\n",
      "(2, \"A Bug's Life\", 'John Lasseter', 1998, 95)\n",
      "(3, 'Toy Story 2', 'John Lasseter', 1999, 93)\n",
      "(4, 'Monsters, Inc.', 'Pete Docter', 2001, 92)\n",
      "(5, 'Finding Nemo', 'Andrew Stanton', 2003, 107)\n",
      "(6, 'The Incredibles', 'Brad Bird', 2004, 116)\n",
      "(7, 'Cars', 'John Lasseter', 2006, 117)\n",
      "(8, 'Ratatouille', 'Brad Bird', 2007, 115)\n",
      "(9, 'WALL-E', 'Andrew Stanton', 2008, 104)\n",
      "(10, 'Up', 'Pete Docter', 2009, 101)\n",
      "(11, 'Toy Story 3', 'Lee Unkrich', 2010, 103)\n",
      "(12, 'Cars 2', 'John Lasseter', 2011, 120)\n",
      "(13, 'Brave', 'Brenda Chapman', 2012, 102)\n",
      "(14, 'Monsters University', 'Dan Scanlon', 2013, 110)\n"
     ]
    }
   ],
   "source": [
    "ret = conn.execute('''SELECT * FROM movies;''')\n",
    "for r in ret:\n",
    "    print(r)"
   ]
  },
  {
   "cell_type": "code",
   "execution_count": 10,
   "id": "90b3a992-7b4f-42ce-8966-79dd4736f7ea",
   "metadata": {},
   "outputs": [
    {
     "name": "stdout",
     "output_type": "stream",
     "text": [
      "(5, 8.2, 380843261, 555900000)\n",
      "(14, 7.4, 268492764, 475066843)\n",
      "(8, 8.0, 206445654, 417277164)\n",
      "(12, 6.4, 191452396, 368400000)\n",
      "(3, 7.9, 245852179, 239163000)\n",
      "(6, 8.0, 261441092, 370001000)\n",
      "(9, 8.5, 223808164, 297503696)\n",
      "(11, 8.4, 415004880, 648167031)\n",
      "(1, 8.3, 191796233, 170162503)\n",
      "(7, 7.2, 244082982, 217900167)\n",
      "(10, 8.3, 293004164, 438338580)\n",
      "(4, 8.1, 289916256, 272900000)\n",
      "(2, 7.2, 162798565, 200600000)\n",
      "(13, 7.2, 237283207, 301700000)\n"
     ]
    }
   ],
   "source": [
    "ret = conn.execute('''SELECT * FROM boxoffice;''')\n",
    "for r in ret:\n",
    "    print(r)"
   ]
  },
  {
   "cell_type": "raw",
   "id": "298aec48-6c89-4e94-8bbf-4f33bbdffc80",
   "metadata": {},
   "source": [
    "The director for A Bug's Life is incorrect, it was actually directed by John Lasseter"
   ]
  },
  {
   "cell_type": "code",
   "execution_count": 11,
   "id": "3854544e-ccda-4d96-b3a2-b306aa6391f3",
   "metadata": {},
   "outputs": [
    {
     "ename": "OperationalError",
     "evalue": "database is locked",
     "output_type": "error",
     "traceback": [
      "\u001b[0;31m---------------------------------------------------------------------------\u001b[0m",
      "\u001b[0;31mOperationalError\u001b[0m                          Traceback (most recent call last)",
      "Cell \u001b[0;32mIn[11], line 1\u001b[0m\n\u001b[0;32m----> 1\u001b[0m ret \u001b[38;5;241m=\u001b[39m \u001b[43mconn\u001b[49m\u001b[38;5;241;43m.\u001b[39;49m\u001b[43mexecute\u001b[49m\u001b[43m(\u001b[49m\u001b[38;5;124;43m'''\u001b[39;49m\u001b[38;5;124;43mUpdate movies SET director=\u001b[39;49m\u001b[38;5;124;43m'\u001b[39;49m\u001b[38;5;124;43mJohn Lasseter\u001b[39;49m\u001b[38;5;124;43m'\u001b[39;49m\u001b[38;5;124;43m where id = 2;\u001b[39;49m\u001b[38;5;124;43m'''\u001b[39;49m\u001b[43m)\u001b[49m\n",
      "\u001b[0;31mOperationalError\u001b[0m: database is locked"
     ]
    }
   ],
   "source": [
    "ret = conn.execute('''Update movies SET director='John Lasseter' where id = 2;''')"
   ]
  },
  {
   "cell_type": "code",
   "execution_count": null,
   "id": "978934d6-cc8d-42eb-92ca-c5cdfbae2afe",
   "metadata": {},
   "outputs": [],
   "source": [
    "ret = conn.execute('''SELECT * FROM movies;''')\n",
    "for r in ret:\n",
    "    print(r)"
   ]
  },
  {
   "cell_type": "raw",
   "id": "3b8eaf51-d16d-40d6-9d46-c6299c4b4b5b",
   "metadata": {},
   "source": [
    "The year that Toy Story 2 was released is incorrect, it was actually released in 1999"
   ]
  },
  {
   "cell_type": "code",
   "execution_count": null,
   "id": "8215af4a-79fb-4d20-b92d-924510c97c84",
   "metadata": {},
   "outputs": [],
   "source": [
    "ret = conn.execute('''SELECT * FROM boxoffice;''')\n",
    "for r in ret:\n",
    "    print(r)"
   ]
  },
  {
   "cell_type": "raw",
   "id": "cd215d80-f09f-4910-9bf8-b56efaeed7d6",
   "metadata": {},
   "source": [
    "Both the title and director for Toy Story 8 is incorrect! The title should be \"Toy Story 3\" and it was directed by Lee Unkrich"
   ]
  },
  {
   "cell_type": "code",
   "execution_count": null,
   "id": "47d669d4-2d34-4b4e-a8f3-d295276ff98d",
   "metadata": {},
   "outputs": [],
   "source": [
    "ret = conn.execute('''SELECT * FROM boxoffice;''')\n",
    "for r in ret:\n",
    "    print(r)"
   ]
  }
 ],
 "metadata": {
  "kernelspec": {
   "display_name": "Python 3 (ipykernel)",
   "language": "python",
   "name": "python3"
  },
  "language_info": {
   "codemirror_mode": {
    "name": "ipython",
    "version": 3
   },
   "file_extension": ".py",
   "mimetype": "text/x-python",
   "name": "python",
   "nbconvert_exporter": "python",
   "pygments_lexer": "ipython3",
   "version": "3.10.4"
  }
 },
 "nbformat": 4,
 "nbformat_minor": 5
}
