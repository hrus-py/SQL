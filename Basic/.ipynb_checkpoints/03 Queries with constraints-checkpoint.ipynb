{
 "cells": [
  {
   "cell_type": "code",
   "execution_count": 1,
   "id": "a34d88a3-aaf2-42a7-a507-382ec55b3d05",
   "metadata": {},
   "outputs": [
    {
     "name": "stdout",
     "output_type": "stream",
     "text": [
      "Opened database successfully\n"
     ]
    }
   ],
   "source": [
    "import pandas as pd\n",
    "import sqlite3\n",
    "conn = sqlite3.connect('test.db')\n",
    "print(\"Opened database successfully\")"
   ]
  },
  {
   "cell_type": "code",
   "execution_count": 2,
   "id": "5584d40e-dc13-45c3-9e8c-97cce0acefbb",
   "metadata": {},
   "outputs": [
    {
     "name": "stdout",
     "output_type": "stream",
     "text": [
      "(1, 'Toy Story', 'John Lasseter', 1995, 81)\n",
      "(2, \"A Bug's Life\", 'John Lasseter', 1998, 95)\n",
      "(3, 'Toy Story 2', 'John Lasseter', 1999, 93)\n",
      "(4, 'Monsters, Inc.', 'Pete Docter', 2001, 92)\n",
      "(5, 'Finding Nemo', 'Andrew Stanton', 2003, 107)\n",
      "(6, 'The Incredibles', 'Brad Bird', 2004, 116)\n",
      "(7, 'Cars', 'John Lasseter', 2006, 117)\n",
      "(8, 'Ratatouille', 'Brad Bird', 2007, 115)\n",
      "(9, 'WALL-E', 'Andrew Stanton', 2008, 104)\n",
      "(10, 'Up', 'Pete Docter', 2009, 101)\n",
      "(11, 'Toy Story 3', 'Lee Unkrich', 2010, 103)\n",
      "(12, 'Cars 2', 'John Lasseter', 2011, 120)\n",
      "(13, 'Brave', 'Brenda Chapman', 2012, 102)\n",
      "(14, 'Monsters University', 'Dan Scanlon', 2013, 110)\n"
     ]
    }
   ],
   "source": [
    "ret = conn.execute('''Select * from movies;''')\n",
    "for r in ret:\n",
    "    print(r)"
   ]
  },
  {
   "cell_type": "raw",
   "id": "1f80fa20-e2d3-4d7e-a00f-2ab6fdbd6589",
   "metadata": {},
   "source": [
    "INSERT a row into movies table"
   ]
  },
  {
   "cell_type": "code",
   "execution_count": 5,
   "id": "39f7aea3-b154-4dd0-9d52-7bf4d73ff2aa",
   "metadata": {},
   "outputs": [
    {
     "data": {
      "text/plain": [
       "<sqlite3.Cursor at 0x7f802e82cbc0>"
      ]
     },
     "execution_count": 5,
     "metadata": {},
     "output_type": "execute_result"
    }
   ],
   "source": [
    "conn.execute('''INSERT INTO movies (id,title,director,year,length_minutes) values(87,'WALL-G','Brenda Chapman',2042,97);''')"
   ]
  },
  {
   "cell_type": "code",
   "execution_count": 6,
   "id": "112e2c29-8446-4804-8dcf-a0611766a5e0",
   "metadata": {},
   "outputs": [
    {
     "name": "stdout",
     "output_type": "stream",
     "text": [
      "(1, 'Toy Story', 'John Lasseter', 1995, 81)\n",
      "(2, \"A Bug's Life\", 'John Lasseter', 1998, 95)\n",
      "(3, 'Toy Story 2', 'John Lasseter', 1999, 93)\n",
      "(4, 'Monsters, Inc.', 'Pete Docter', 2001, 92)\n",
      "(5, 'Finding Nemo', 'Andrew Stanton', 2003, 107)\n",
      "(6, 'The Incredibles', 'Brad Bird', 2004, 116)\n",
      "(7, 'Cars', 'John Lasseter', 2006, 117)\n",
      "(8, 'Ratatouille', 'Brad Bird', 2007, 115)\n",
      "(9, 'WALL-E', 'Andrew Stanton', 2008, 104)\n",
      "(10, 'Up', 'Pete Docter', 2009, 101)\n",
      "(11, 'Toy Story 3', 'Lee Unkrich', 2010, 103)\n",
      "(12, 'Cars 2', 'John Lasseter', 2011, 120)\n",
      "(13, 'Brave', 'Brenda Chapman', 2012, 102)\n",
      "(14, 'Monsters University', 'Dan Scanlon', 2013, 110)\n",
      "(87, 'WALL-G', 'Brenda Chapman', 2042, 97)\n"
     ]
    }
   ],
   "source": [
    "ret = conn.execute('''Select * from movies;''')\n",
    "for r in ret:\n",
    "    print(r)"
   ]
  },
  {
   "cell_type": "raw",
   "id": "5ff91e58-fd88-4e7f-8de2-a56c7edae7b1",
   "metadata": {},
   "source": [
    "Operator         Condition                                                                                     Example\n",
    "=                Case sensitive exact string comparison (notice the single equals)                   col_name = \"abc\"\n",
    "!= or <>         Case sensitive exact string inequality comparison                                   col_name != \"abcd\"\n",
    "LIKE             Case insensitive exact string comparison                                            col_name LIKE \"ABC\"\n",
    "NOT LIKE         Case insensitive exact string inequality comparison                                 col_name NOT LIKE \"ABCD\"\n",
    "%                Used anywhere in a string to match a sequence of zero or more                       col_name LIKE \"%AT%\"\n",
    "                 characters (only with LIKE or NOT LIKE)                                             (matches \"AT\", \"ATTIC\", \"CAT\" \n",
    "                                                                                                       or even \"BATS\")\n",
    "_                Used anywhere in a string to match a single character                               col_name LIKE \"AN_\"\n",
    "                 (only with LIKE or NOT LIKE)                                                        (matches \"AND\", but not \"AN\")\n",
    "IN (…)          String exists in a list                                                              col_name IN (\"A\", \"B\", \"C\")\n",
    "NOT IN (…)      String does not exist in a list                                                      col_name NOT IN (\"D\", \"E\", \"F\")"
   ]
  },
  {
   "cell_type": "raw",
   "id": "fa6d2e87-f51e-4a73-b6bd-4ae1d06d81b8",
   "metadata": {},
   "source": [
    "Find all the Toy Story movies"
   ]
  },
  {
   "cell_type": "code",
   "execution_count": 7,
   "id": "85d9b331-6e28-488a-a51b-132dfbef62e7",
   "metadata": {},
   "outputs": [
    {
     "name": "stdout",
     "output_type": "stream",
     "text": [
      "(1, 'Toy Story', 'John Lasseter', 1995, 81)\n",
      "(3, 'Toy Story 2', 'John Lasseter', 1999, 93)\n",
      "(11, 'Toy Story 3', 'Lee Unkrich', 2010, 103)\n"
     ]
    }
   ],
   "source": [
    "ret = conn.execute('''SELECT * FROM movies where title Like \"Toy%\";''')\n",
    "for r in ret:\n",
    "    print(r)"
   ]
  },
  {
   "cell_type": "raw",
   "id": "1b28fa48-f690-4281-b325-d52071a33500",
   "metadata": {},
   "source": [
    "Find all the movies directed by John Lasseter"
   ]
  },
  {
   "cell_type": "code",
   "execution_count": 8,
   "id": "088d040f-ccb0-4184-9d6a-d4788e02c95f",
   "metadata": {},
   "outputs": [
    {
     "name": "stdout",
     "output_type": "stream",
     "text": [
      "(1, 'Toy Story', 'John Lasseter', 1995, 81)\n",
      "(2, \"A Bug's Life\", 'John Lasseter', 1998, 95)\n",
      "(3, 'Toy Story 2', 'John Lasseter', 1999, 93)\n",
      "(7, 'Cars', 'John Lasseter', 2006, 117)\n",
      "(12, 'Cars 2', 'John Lasseter', 2011, 120)\n"
     ]
    }
   ],
   "source": [
    "ret = conn.execute('''SELECT * FROM movies where director = 'John Lasseter';''')\n",
    "for r in ret:\n",
    "    print(r)"
   ]
  },
  {
   "cell_type": "raw",
   "id": "42fcb899-6a5b-49bc-9f0a-2aad46fd9af4",
   "metadata": {},
   "source": [
    "Find all the movies (and director) not directed by John Lasseter"
   ]
  },
  {
   "cell_type": "code",
   "execution_count": 9,
   "id": "957a2746-5b6b-4892-b5b8-b44b08b06b0e",
   "metadata": {},
   "outputs": [
    {
     "name": "stdout",
     "output_type": "stream",
     "text": [
      "('Monsters, Inc.', 'Pete Docter')\n",
      "('Finding Nemo', 'Andrew Stanton')\n",
      "('The Incredibles', 'Brad Bird')\n",
      "('Ratatouille', 'Brad Bird')\n",
      "('WALL-E', 'Andrew Stanton')\n",
      "('Up', 'Pete Docter')\n",
      "('Toy Story 3', 'Lee Unkrich')\n",
      "('Brave', 'Brenda Chapman')\n",
      "('Monsters University', 'Dan Scanlon')\n",
      "('WALL-G', 'Brenda Chapman')\n"
     ]
    }
   ],
   "source": [
    "ret = conn.execute('''SELECT title, director FROM movies where director != 'John Lasseter';''')\n",
    "for r in ret:\n",
    "    print(r)"
   ]
  },
  {
   "cell_type": "raw",
   "id": "6c160c6a-3226-4111-8286-6c35f9a28f5e",
   "metadata": {},
   "source": [
    "Find all the WALL-* movies"
   ]
  },
  {
   "cell_type": "code",
   "execution_count": 10,
   "id": "c0c5eea5-40d9-48d9-8ab1-f03735aa4f54",
   "metadata": {},
   "outputs": [
    {
     "name": "stdout",
     "output_type": "stream",
     "text": [
      "(9, 'WALL-E', 'Andrew Stanton', 2008, 104)\n",
      "(87, 'WALL-G', 'Brenda Chapman', 2042, 97)\n"
     ]
    }
   ],
   "source": [
    "ret = conn.execute('''SELECT * FROM movies where title like 'WALL-%';''')\n",
    "for r in ret:\n",
    "    print(r)"
   ]
  }
 ],
 "metadata": {
  "kernelspec": {
   "display_name": "Python 3 (ipykernel)",
   "language": "python",
   "name": "python3"
  },
  "language_info": {
   "codemirror_mode": {
    "name": "ipython",
    "version": 3
   },
   "file_extension": ".py",
   "mimetype": "text/x-python",
   "name": "python",
   "nbconvert_exporter": "python",
   "pygments_lexer": "ipython3",
   "version": "3.10.4"
  }
 },
 "nbformat": 4,
 "nbformat_minor": 5
}
