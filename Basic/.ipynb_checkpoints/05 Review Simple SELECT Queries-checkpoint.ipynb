{
 "cells": [
  {
   "cell_type": "code",
   "execution_count": 2,
   "id": "9d4c8a9c-644f-442d-be80-6313b508e618",
   "metadata": {},
   "outputs": [
    {
     "name": "stdout",
     "output_type": "stream",
     "text": [
      "Opened database successfully\n"
     ]
    }
   ],
   "source": [
    "import pandas as pd\n",
    "import sqlite3\n",
    "conn = sqlite3.connect('test.db')\n",
    "print(\"Opened database successfully\")"
   ]
  },
  {
   "cell_type": "code",
   "execution_count": 3,
   "id": "bb3746e9-4ce5-4b86-88e6-80578c04320e",
   "metadata": {},
   "outputs": [
    {
     "name": "stdout",
     "output_type": "stream",
     "text": [
      "Table created Successfully\n"
     ]
    }
   ],
   "source": [
    "# Create Table\n",
    "conn.execute('''CREATE TABLE IF NOT EXISTS north_american_cities\n",
    "         (city TEXT,\n",
    "         country TEXT, \n",
    "         Population INT,\n",
    "         Latitude Real,\n",
    "         Longitude Real);''')\n",
    "\n",
    "print(\"Table created Successfully\")"
   ]
  },
  {
   "cell_type": "code",
   "execution_count": 4,
   "id": "e43ec7b1-567c-406e-a75f-06f456a4bdf8",
   "metadata": {},
   "outputs": [
    {
     "data": {
      "text/html": [
       "<div>\n",
       "<style scoped>\n",
       "    .dataframe tbody tr th:only-of-type {\n",
       "        vertical-align: middle;\n",
       "    }\n",
       "\n",
       "    .dataframe tbody tr th {\n",
       "        vertical-align: top;\n",
       "    }\n",
       "\n",
       "    .dataframe thead th {\n",
       "        text-align: right;\n",
       "    }\n",
       "</style>\n",
       "<table border=\"1\" class=\"dataframe\">\n",
       "  <thead>\n",
       "    <tr style=\"text-align: right;\">\n",
       "      <th></th>\n",
       "      <th>City</th>\n",
       "      <th>Country</th>\n",
       "      <th>Population</th>\n",
       "      <th>Latitude</th>\n",
       "      <th>Longitude</th>\n",
       "    </tr>\n",
       "  </thead>\n",
       "  <tbody>\n",
       "    <tr>\n",
       "      <th>0</th>\n",
       "      <td>Guadalajara</td>\n",
       "      <td>Mexico</td>\n",
       "      <td>1500800</td>\n",
       "      <td>20.659699</td>\n",
       "      <td>-103.349609</td>\n",
       "    </tr>\n",
       "    <tr>\n",
       "      <th>1</th>\n",
       "      <td>Toronto</td>\n",
       "      <td>Canada</td>\n",
       "      <td>2795060</td>\n",
       "      <td>43.653226</td>\n",
       "      <td>-79.383184</td>\n",
       "    </tr>\n",
       "    <tr>\n",
       "      <th>2</th>\n",
       "      <td>Houston</td>\n",
       "      <td>United States</td>\n",
       "      <td>2195914</td>\n",
       "      <td>29.760427</td>\n",
       "      <td>-95.369803</td>\n",
       "    </tr>\n",
       "    <tr>\n",
       "      <th>3</th>\n",
       "      <td>New York</td>\n",
       "      <td>United States</td>\n",
       "      <td>8405837</td>\n",
       "      <td>40.712784</td>\n",
       "      <td>-74.005941</td>\n",
       "    </tr>\n",
       "    <tr>\n",
       "      <th>4</th>\n",
       "      <td>Philadelphia</td>\n",
       "      <td>United States</td>\n",
       "      <td>1553165</td>\n",
       "      <td>39.952584</td>\n",
       "      <td>-75.165222</td>\n",
       "    </tr>\n",
       "  </tbody>\n",
       "</table>\n",
       "</div>"
      ],
      "text/plain": [
       "           City        Country  Population   Latitude   Longitude\n",
       "0   Guadalajara         Mexico     1500800  20.659699 -103.349609\n",
       "1       Toronto         Canada     2795060  43.653226  -79.383184\n",
       "2       Houston  United States     2195914  29.760427  -95.369803\n",
       "3      New York  United States     8405837  40.712784  -74.005941\n",
       "4  Philadelphia  United States     1553165  39.952584  -75.165222"
      ]
     },
     "execution_count": 4,
     "metadata": {},
     "output_type": "execute_result"
    }
   ],
   "source": [
    "df = pd.read_csv('02_table_north_american_cities.csv', sep='\\t')\n",
    "df.head()"
   ]
  },
  {
   "cell_type": "code",
   "execution_count": 6,
   "id": "ecc8a4fc-6765-4156-abbb-814292252316",
   "metadata": {},
   "outputs": [
    {
     "name": "stdout",
     "output_type": "stream",
     "text": [
      "12  Rows inserted into table\n"
     ]
    }
   ],
   "source": [
    "ret = df.to_sql('north_american_cities', conn, if_exists='replace', index=False)\n",
    "print(ret, \" Rows inserted into table\")"
   ]
  },
  {
   "cell_type": "code",
   "execution_count": 7,
   "id": "22f7c050-0edd-4e12-80dd-ef6d395af9f6",
   "metadata": {},
   "outputs": [
    {
     "name": "stdout",
     "output_type": "stream",
     "text": [
      "('Guadalajara', 'Mexico', 1500800, 20.659699, -103.349609)\n",
      "('Toronto', 'Canada', 2795060, 43.653226, -79.383184)\n",
      "('Houston', 'United States', 2195914, 29.760427, -95.369803)\n",
      "('New York', 'United States', 8405837, 40.712784, -74.005941)\n",
      "('Philadelphia', 'United States', 1553165, 39.952584, -75.165222)\n",
      "('Havana', 'Cuba', 2106146, 23.05407, -82.345189)\n",
      "('Mexico City', 'Mexico', 8555500, 19.432608, -99.133208)\n",
      "('Phoenix', 'United States', 1513367, 33.448377, -112.074037)\n",
      "('Los Angeles', 'United States', 3884307, 34.052234, -118.243685)\n",
      "('Ecatepec de Morelos', 'Mexico', 1742000, 19.601841, -99.050674)\n",
      "('Montreal', 'Canada', 1717767, 45.501689, -73.567256)\n",
      "('Chicago', 'United States', 2718782, 41.878114, -87.629798)\n"
     ]
    }
   ],
   "source": [
    "ret = conn.execute('''Select * from north_american_cities;''')\n",
    "for r in ret:\n",
    "    print(r)"
   ]
  },
  {
   "cell_type": "raw",
   "id": "4210fba4-027f-44f7-93c5-0bba7007eaea",
   "metadata": {},
   "source": [
    "List all the Canadian cities and their populations"
   ]
  },
  {
   "cell_type": "code",
   "execution_count": 8,
   "id": "416a7451-581e-4b6b-8e7a-f3fb78bc0514",
   "metadata": {},
   "outputs": [
    {
     "name": "stdout",
     "output_type": "stream",
     "text": [
      "('Toronto', 2795060)\n",
      "('Montreal', 1717767)\n"
     ]
    }
   ],
   "source": [
    "ret = conn.execute('''SELECT city, population FROM north_american_cities where country = 'Canada';''')\n",
    "for r in ret:\n",
    "    print(r)"
   ]
  },
  {
   "cell_type": "raw",
   "id": "1aa8e042-28bc-454a-8b35-ccf76ac1127f",
   "metadata": {},
   "source": [
    "Order all the cities in the United States by their latitude from north to south"
   ]
  },
  {
   "cell_type": "code",
   "execution_count": 9,
   "id": "ccce17ba-d3b5-4933-8869-95fe88b3fe6c",
   "metadata": {},
   "outputs": [
    {
     "name": "stdout",
     "output_type": "stream",
     "text": [
      "('Chicago',)\n",
      "('New York',)\n",
      "('Philadelphia',)\n",
      "('Los Angeles',)\n",
      "('Phoenix',)\n",
      "('Houston',)\n"
     ]
    }
   ],
   "source": [
    "ret = conn.execute('''SELECT city FROM north_american_cities where country = 'United States' order by Latitude DESC;''')\n",
    "for r in ret:\n",
    "    print(r)"
   ]
  },
  {
   "cell_type": "raw",
   "id": "c1b8176e-12b3-4f44-be6e-09c81263b219",
   "metadata": {},
   "source": [
    "List all the cities west of Chicago, ordered from west to east"
   ]
  },
  {
   "cell_type": "code",
   "execution_count": 10,
   "id": "30853fe6-c929-4e16-9f93-50f6263d8caf",
   "metadata": {},
   "outputs": [
    {
     "name": "stdout",
     "output_type": "stream",
     "text": [
      "('Los Angeles', -118.243685)\n",
      "('Phoenix', -112.074037)\n",
      "('Guadalajara', -103.349609)\n",
      "('Mexico City', -99.133208)\n",
      "('Ecatepec de Morelos', -99.050674)\n",
      "('Houston', -95.369803)\n"
     ]
    }
   ],
   "source": [
    "ret = conn.execute('''SELECT city, longitude FROM north_american_cities WHERE longitude < -87.629798 ORDER BY longitude ASC;''')\n",
    "for r in ret:\n",
    "    print(r)"
   ]
  },
  {
   "cell_type": "raw",
   "id": "b42dd419-f969-474e-a8b8-1662ea370dcf",
   "metadata": {},
   "source": [
    "List the two largest cities in Mexico (by population)"
   ]
  },
  {
   "cell_type": "code",
   "execution_count": 11,
   "id": "2cd70fab-5c54-486c-8727-671dcc89a0cb",
   "metadata": {},
   "outputs": [
    {
     "name": "stdout",
     "output_type": "stream",
     "text": [
      "('Mexico City',)\n",
      "('Ecatepec de Morelos',)\n"
     ]
    }
   ],
   "source": [
    "ret = conn.execute('''SELECT city FROM north_american_cities WHERE country = 'Mexico' order by population desc limit 2;''')\n",
    "for r in ret:\n",
    "    print(r)"
   ]
  },
  {
   "cell_type": "raw",
   "id": "50c0699c-36a4-4492-99f7-0ad4b7742dec",
   "metadata": {},
   "source": [
    "List the third and fourth largest cities (by population) in the United States and their population"
   ]
  },
  {
   "cell_type": "code",
   "execution_count": 12,
   "id": "72c11456-4787-405a-81cc-5e2b05ab9e1d",
   "metadata": {},
   "outputs": [
    {
     "name": "stdout",
     "output_type": "stream",
     "text": [
      "('Chicago', 2718782)\n",
      "('Houston', 2195914)\n"
     ]
    }
   ],
   "source": [
    "ret = conn.execute('''SELECT city, population FROM north_american_cities WHERE country = 'United States' order by population desc limit 2 offset 2;''')\n",
    "for r in ret:\n",
    "    print(r)"
   ]
  }
 ],
 "metadata": {
  "kernelspec": {
   "display_name": "Python 3 (ipykernel)",
   "language": "python",
   "name": "python3"
  },
  "language_info": {
   "codemirror_mode": {
    "name": "ipython",
    "version": 3
   },
   "file_extension": ".py",
   "mimetype": "text/x-python",
   "name": "python",
   "nbconvert_exporter": "python",
   "pygments_lexer": "ipython3",
   "version": "3.10.4"
  }
 },
 "nbformat": 4,
 "nbformat_minor": 5
}
