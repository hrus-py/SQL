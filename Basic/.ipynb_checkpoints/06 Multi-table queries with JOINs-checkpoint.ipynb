{
 "cells": [
  {
   "cell_type": "raw",
   "id": "039904fc-cdd4-4242-b9b6-2894381108dc",
   "metadata": {},
   "source": [
    "Select query with INNER JOIN on multiple tables\n",
    "SELECT column, another_table_column, …\n",
    "FROM mytable\n",
    "INNER JOIN another_table \n",
    "    ON mytable.id = another_table.id\n",
    "WHERE condition(s)\n",
    "ORDER BY column, … ASC/DESC\n",
    "LIMIT num_limit OFFSET num_offset;"
   ]
  },
  {
   "cell_type": "code",
   "execution_count": 1,
   "id": "d5f0ec44-6be0-4084-99c1-92f4811c7812",
   "metadata": {},
   "outputs": [
    {
     "name": "stdout",
     "output_type": "stream",
     "text": [
      "Opened database successfully\n"
     ]
    }
   ],
   "source": [
    "import pandas as pd\n",
    "import sqlite3\n",
    "conn = sqlite3.connect('test.db')\n",
    "print(\"Opened database successfully\")"
   ]
  },
  {
   "cell_type": "code",
   "execution_count": 2,
   "id": "badf5e80-8789-496e-a1a4-b25b023f4de5",
   "metadata": {},
   "outputs": [
    {
     "name": "stdout",
     "output_type": "stream",
     "text": [
      "Table created Successfully\n"
     ]
    }
   ],
   "source": [
    "# Create Table\n",
    "conn.execute('''CREATE TABLE IF NOT EXISTS boxoffice\n",
    "         (movie_id INT PRIMARY KEY,\n",
    "         rating FLOAT, \n",
    "         domestic_sales REAL,\n",
    "         international_sales REAL);''')\n",
    "\n",
    "print(\"Table created Successfully\")"
   ]
  },
  {
   "cell_type": "code",
   "execution_count": 3,
   "id": "21f3c803-e7cc-488d-9b70-e755d86d7e75",
   "metadata": {},
   "outputs": [
    {
     "data": {
      "text/html": [
       "<div>\n",
       "<style scoped>\n",
       "    .dataframe tbody tr th:only-of-type {\n",
       "        vertical-align: middle;\n",
       "    }\n",
       "\n",
       "    .dataframe tbody tr th {\n",
       "        vertical-align: top;\n",
       "    }\n",
       "\n",
       "    .dataframe thead th {\n",
       "        text-align: right;\n",
       "    }\n",
       "</style>\n",
       "<table border=\"1\" class=\"dataframe\">\n",
       "  <thead>\n",
       "    <tr style=\"text-align: right;\">\n",
       "      <th></th>\n",
       "      <th>Movie_id</th>\n",
       "      <th>Rating</th>\n",
       "      <th>Domestic_sales</th>\n",
       "      <th>International_sales</th>\n",
       "    </tr>\n",
       "  </thead>\n",
       "  <tbody>\n",
       "    <tr>\n",
       "      <th>0</th>\n",
       "      <td>5</td>\n",
       "      <td>8.2</td>\n",
       "      <td>380843261</td>\n",
       "      <td>555900000</td>\n",
       "    </tr>\n",
       "    <tr>\n",
       "      <th>1</th>\n",
       "      <td>14</td>\n",
       "      <td>7.4</td>\n",
       "      <td>268492764</td>\n",
       "      <td>475066843</td>\n",
       "    </tr>\n",
       "    <tr>\n",
       "      <th>2</th>\n",
       "      <td>8</td>\n",
       "      <td>8.0</td>\n",
       "      <td>206445654</td>\n",
       "      <td>417277164</td>\n",
       "    </tr>\n",
       "    <tr>\n",
       "      <th>3</th>\n",
       "      <td>12</td>\n",
       "      <td>6.4</td>\n",
       "      <td>191452396</td>\n",
       "      <td>368400000</td>\n",
       "    </tr>\n",
       "    <tr>\n",
       "      <th>4</th>\n",
       "      <td>3</td>\n",
       "      <td>7.9</td>\n",
       "      <td>245852179</td>\n",
       "      <td>239163000</td>\n",
       "    </tr>\n",
       "  </tbody>\n",
       "</table>\n",
       "</div>"
      ],
      "text/plain": [
       "   Movie_id  Rating  Domestic_sales  International_sales\n",
       "0         5     8.2       380843261            555900000\n",
       "1        14     7.4       268492764            475066843\n",
       "2         8     8.0       206445654            417277164\n",
       "3        12     6.4       191452396            368400000\n",
       "4         3     7.9       245852179            239163000"
      ]
     },
     "execution_count": 3,
     "metadata": {},
     "output_type": "execute_result"
    }
   ],
   "source": [
    "df = pd.read_csv('03_Boxoffice.csv', sep='\\t')\n",
    "df.head()"
   ]
  },
  {
   "cell_type": "code",
   "execution_count": 4,
   "id": "bc7e3ae1-995b-41bb-9b1c-c2e65cbfc540",
   "metadata": {},
   "outputs": [
    {
     "name": "stdout",
     "output_type": "stream",
     "text": [
      "14  Rows inserted into table\n"
     ]
    }
   ],
   "source": [
    "ret = df.to_sql('boxoffice', conn, if_exists='replace', index=False)\n",
    "print(ret, \" Rows inserted into table\")"
   ]
  },
  {
   "cell_type": "raw",
   "id": "11516b44-ca61-43de-bd16-93f262901794",
   "metadata": {},
   "source": [
    "Find the domestic and international sales for each movie"
   ]
  },
  {
   "cell_type": "code",
   "execution_count": 5,
   "id": "988cf4dc-cb04-429e-9a8f-a5c3f09ef745",
   "metadata": {},
   "outputs": [
    {
     "name": "stdout",
     "output_type": "stream",
     "text": [
      "('Finding Nemo', 380843261, 555900000)\n",
      "('Monsters University', 268492764, 475066843)\n",
      "('Ratatouille', 206445654, 417277164)\n",
      "('Cars 2', 191452396, 368400000)\n",
      "('Toy Story 2', 245852179, 239163000)\n",
      "('The Incredibles', 261441092, 370001000)\n",
      "('WALL-E', 223808164, 297503696)\n",
      "('Toy Story 3', 415004880, 648167031)\n",
      "('Toy Story', 191796233, 170162503)\n",
      "('Cars', 244082982, 217900167)\n",
      "('Up', 293004164, 438338580)\n",
      "('Monsters, Inc.', 289916256, 272900000)\n",
      "(\"A Bug's Life\", 162798565, 200600000)\n",
      "('Brave', 237283207, 301700000)\n"
     ]
    }
   ],
   "source": [
    "ret = conn.execute('''SELECT title, domestic_sales, international_sales FROM boxoffice inner join movies on boxoffice.movie_id = movies.id;''')\n",
    "for r in ret:\n",
    "    print(r)"
   ]
  },
  {
   "cell_type": "raw",
   "id": "883c5ede-a45f-4dd4-a7f5-3e1f1ad76882",
   "metadata": {},
   "source": [
    "Show the sales numbers for each movie that did better internationally rather than domestically"
   ]
  },
  {
   "cell_type": "code",
   "execution_count": 6,
   "id": "5bd97c16-2ae7-4835-8c35-6d3ffa95dad9",
   "metadata": {},
   "outputs": [
    {
     "name": "stdout",
     "output_type": "stream",
     "text": [
      "('Finding Nemo', 380843261, 555900000)\n",
      "('Monsters University', 268492764, 475066843)\n",
      "('Ratatouille', 206445654, 417277164)\n",
      "('Cars 2', 191452396, 368400000)\n",
      "('The Incredibles', 261441092, 370001000)\n",
      "('WALL-E', 223808164, 297503696)\n",
      "('Toy Story 3', 415004880, 648167031)\n",
      "('Up', 293004164, 438338580)\n",
      "(\"A Bug's Life\", 162798565, 200600000)\n",
      "('Brave', 237283207, 301700000)\n"
     ]
    }
   ],
   "source": [
    "ret = conn.execute('''SELECT title, domestic_sales, international_sales FROM boxoffice inner join movies on boxoffice.movie_id = movies.id where international_sales > domestic_sales;''')\n",
    "for r in ret:\n",
    "    print(r)"
   ]
  },
  {
   "cell_type": "raw",
   "id": "e5c997c8-88c7-4a57-ad2d-2551858f7524",
   "metadata": {},
   "source": [
    "List all the movies by their ratings in descending order"
   ]
  },
  {
   "cell_type": "code",
   "execution_count": 7,
   "id": "7a17049b-ecce-44bd-9bf1-aa32ac6debc8",
   "metadata": {},
   "outputs": [
    {
     "name": "stdout",
     "output_type": "stream",
     "text": [
      "('WALL-E',)\n",
      "('Toy Story 3',)\n",
      "('Toy Story',)\n",
      "('Up',)\n",
      "('Finding Nemo',)\n",
      "('Monsters, Inc.',)\n",
      "('Ratatouille',)\n",
      "('The Incredibles',)\n",
      "('Toy Story 2',)\n",
      "('Monsters University',)\n",
      "('Cars',)\n",
      "(\"A Bug's Life\",)\n",
      "('Brave',)\n",
      "('Cars 2',)\n"
     ]
    }
   ],
   "source": [
    "ret = conn.execute('''SELECT title FROM boxoffice inner join movies on boxoffice.movie_id = movies.id order by rating desc;''')\n",
    "for r in ret:\n",
    "    print(r)"
   ]
  },
  {
   "cell_type": "code",
   "execution_count": null,
   "id": "507b8069-b49b-41af-863a-a9a3a0f7343d",
   "metadata": {},
   "outputs": [],
   "source": [
    "conn.close()"
   ]
  }
 ],
 "metadata": {
  "kernelspec": {
   "display_name": "Python 3 (ipykernel)",
   "language": "python",
   "name": "python3"
  },
  "language_info": {
   "codemirror_mode": {
    "name": "ipython",
    "version": 3
   },
   "file_extension": ".py",
   "mimetype": "text/x-python",
   "name": "python",
   "nbconvert_exporter": "python",
   "pygments_lexer": "ipython3",
   "version": "3.10.4"
  }
 },
 "nbformat": 4,
 "nbformat_minor": 5
}
