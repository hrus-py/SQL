{
 "cells": [
  {
   "cell_type": "raw",
   "id": "5207a869-3409-48a5-ac34-b582ad2f3dc8",
   "metadata": {},
   "source": [
    "Select query with constraints\n",
    "SELECT column, another_column, …\n",
    "FROM mytable\n",
    "WHERE condition\n",
    "    AND/OR another_condition\n",
    "    AND/OR …;"
   ]
  },
  {
   "cell_type": "raw",
   "id": "accdd5e2-ccbc-40cd-a8c5-79536c76732a",
   "metadata": {},
   "source": [
    "Operator                           Condition                                          SQL Example\n",
    "=, !=, < <=, >, >=       Standard numerical operators                               col_name != 4\n",
    "BETWEEN … AND …          Number is within range of two values (inclusive)           col_name BETWEEN 1.5 AND 10.5\n",
    "NOT BETWEEN … AND …      Number is not within range of two values (inclusive)       col_name NOT BETWEEN 1 AND 10\n",
    "IN (…)                   Number exists in a list                                    col_name IN (2, 4, 6)\n",
    "NOT IN (…)               Number does not exist in a list                            col_name NOT IN (1, 3, 5)"
   ]
  },
  {
   "cell_type": "code",
   "execution_count": 2,
   "id": "5d647ac3-6241-42de-ae0f-2e62d26c5d24",
   "metadata": {},
   "outputs": [
    {
     "name": "stdout",
     "output_type": "stream",
     "text": [
      "Opened database successfully\n"
     ]
    }
   ],
   "source": [
    "import pandas as pd\n",
    "import sqlite3\n",
    "conn = sqlite3.connect('test.db')\n",
    "print(\"Opened database successfully\")"
   ]
  },
  {
   "cell_type": "code",
   "execution_count": 5,
   "id": "6ce6f945-520f-4a62-8739-cbdd76637c46",
   "metadata": {},
   "outputs": [
    {
     "name": "stdout",
     "output_type": "stream",
     "text": [
      "(1, 'Toy Story', 'John Lasseter', 1995, 81)\n",
      "(2, \"A Bug's Life\", 'John Lasseter', 1998, 95)\n",
      "(3, 'Toy Story 2', 'John Lasseter', 1999, 93)\n",
      "(4, 'Monsters, Inc.', 'Pete Docter', 2001, 92)\n",
      "(5, 'Finding Nemo', 'Andrew Stanton', 2003, 107)\n",
      "(6, 'The Incredibles', 'Brad Bird', 2004, 116)\n",
      "(7, 'Cars', 'John Lasseter', 2006, 117)\n",
      "(8, 'Ratatouille', 'Brad Bird', 2007, 115)\n",
      "(9, 'WALL-E', 'Andrew Stanton', 2008, 104)\n",
      "(10, 'Up', 'Pete Docter', 2009, 101)\n",
      "(11, 'Toy Story 3', 'Lee Unkrich', 2010, 103)\n",
      "(12, 'Cars 2', 'John Lasseter', 2011, 120)\n",
      "(13, 'Brave', 'Brenda Chapman', 2012, 102)\n",
      "(14, 'Monsters University', 'Dan Scanlon', 2013, 110)\n"
     ]
    }
   ],
   "source": [
    "ret = conn.execute('''Select * from movies;''')\n",
    "for r in ret:\n",
    "    print(r)"
   ]
  },
  {
   "cell_type": "raw",
   "id": "5207afad-0096-4c58-b399-c1d51d847167",
   "metadata": {},
   "source": [
    "Find the movie with a row id of 6"
   ]
  },
  {
   "cell_type": "code",
   "execution_count": 4,
   "id": "27805598-094c-42c4-8089-7b79410de2bc",
   "metadata": {},
   "outputs": [
    {
     "name": "stdout",
     "output_type": "stream",
     "text": [
      "(6, 'The Incredibles', 'Brad Bird', 2004, 116)\n"
     ]
    }
   ],
   "source": [
    "ret = conn.execute('''Select * from movies where id=6;''')\n",
    "for r in ret:\n",
    "    print(r)"
   ]
  },
  {
   "cell_type": "raw",
   "id": "8783abcb-333b-4f5a-b56b-8b436c19bc0b",
   "metadata": {},
   "source": [
    "Find the movies released in the years between 2000 and 2010"
   ]
  },
  {
   "cell_type": "code",
   "execution_count": 6,
   "id": "c6c2ab15-70eb-4441-a3fa-184a34ab9a1c",
   "metadata": {},
   "outputs": [
    {
     "name": "stdout",
     "output_type": "stream",
     "text": [
      "(4, 'Monsters, Inc.', 'Pete Docter', 2001, 92)\n",
      "(5, 'Finding Nemo', 'Andrew Stanton', 2003, 107)\n",
      "(6, 'The Incredibles', 'Brad Bird', 2004, 116)\n",
      "(7, 'Cars', 'John Lasseter', 2006, 117)\n",
      "(8, 'Ratatouille', 'Brad Bird', 2007, 115)\n",
      "(9, 'WALL-E', 'Andrew Stanton', 2008, 104)\n",
      "(10, 'Up', 'Pete Docter', 2009, 101)\n",
      "(11, 'Toy Story 3', 'Lee Unkrich', 2010, 103)\n"
     ]
    }
   ],
   "source": [
    "ret = conn.execute('''SELECT * FROM movies where year between 2000 and 2010;''')\n",
    "for r in ret:\n",
    "    print(r)"
   ]
  },
  {
   "cell_type": "raw",
   "id": "9072bbd8-cf52-4508-b340-ba98d7a79f77",
   "metadata": {},
   "source": [
    "Find the movies not released in the years between 2000 and 2010"
   ]
  },
  {
   "cell_type": "code",
   "execution_count": 7,
   "id": "a32e22c3-ddbc-4045-bce0-401d083ee81b",
   "metadata": {},
   "outputs": [
    {
     "name": "stdout",
     "output_type": "stream",
     "text": [
      "(1, 'Toy Story', 'John Lasseter', 1995, 81)\n",
      "(2, \"A Bug's Life\", 'John Lasseter', 1998, 95)\n",
      "(3, 'Toy Story 2', 'John Lasseter', 1999, 93)\n",
      "(12, 'Cars 2', 'John Lasseter', 2011, 120)\n",
      "(13, 'Brave', 'Brenda Chapman', 2012, 102)\n",
      "(14, 'Monsters University', 'Dan Scanlon', 2013, 110)\n"
     ]
    }
   ],
   "source": [
    "ret = conn.execute('''SELECT * FROM movies where year Not between 2000 and 2010;''')\n",
    "for r in ret:\n",
    "    print(r)"
   ]
  },
  {
   "cell_type": "raw",
   "id": "312fc87a-4fc4-4eb4-b249-2397693325ab",
   "metadata": {},
   "source": [
    "Find the first 5 Pixar movies and their release year"
   ]
  },
  {
   "cell_type": "code",
   "execution_count": 8,
   "id": "e4e418b7-0ba1-4b71-8ace-65e6cfd6bc17",
   "metadata": {},
   "outputs": [
    {
     "name": "stdout",
     "output_type": "stream",
     "text": [
      "('Toy Story', 1995)\n",
      "(\"A Bug's Life\", 1998)\n",
      "('Toy Story 2', 1999)\n",
      "('Monsters, Inc.', 2001)\n",
      "('Finding Nemo', 2003)\n"
     ]
    }
   ],
   "source": [
    "ret = conn.execute('''SELECT title,year FROM movies where id <6;''')\n",
    "for r in ret:\n",
    "    print(r)"
   ]
  },
  {
   "cell_type": "code",
   "execution_count": null,
   "id": "043f11ae-aff5-4e51-bdd8-f6b831c44708",
   "metadata": {},
   "outputs": [],
   "source": [
    "conn.close()"
   ]
  }
 ],
 "metadata": {
  "kernelspec": {
   "display_name": "Python 3 (ipykernel)",
   "language": "python",
   "name": "python3"
  },
  "language_info": {
   "codemirror_mode": {
    "name": "ipython",
    "version": 3
   },
   "file_extension": ".py",
   "mimetype": "text/x-python",
   "name": "python",
   "nbconvert_exporter": "python",
   "pygments_lexer": "ipython3",
   "version": "3.10.4"
  }
 },
 "nbformat": 4,
 "nbformat_minor": 5
}
