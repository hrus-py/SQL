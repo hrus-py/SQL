{
 "cells": [
  {
   "cell_type": "raw",
   "id": "cd28de9a-89d0-48e5-9147-29819efa58ed",
   "metadata": {},
   "source": [
    "Create table statement w/ optional table constraint and default value\n",
    "\n",
    "CREATE TABLE IF NOT EXISTS mytable (\n",
    "    column DataType TableConstraint DEFAULT default_value,\n",
    "    another_column DataType TableConstraint DEFAULT default_value,\n",
    "    …\n",
    ");"
   ]
  },
  {
   "cell_type": "raw",
   "id": "7ee2e71d-326d-4063-9628-ff1483bd5a0d",
   "metadata": {},
   "source": [
    "                                                       Table data types\n",
    "\n",
    "Data type\t                         Description\n",
    "INTEGER \t             The integer datatypes can store whole integer values like the count of a number or an age. \n",
    "\n",
    "BOOLEAN                  In some implementations, the boolean value is just represented as an integer value of just 0 or 1.             \n",
    "\n",
    "FLOAT, DOUBLE,  \t     The floating point datatypes can store more precise numerical data like measurements or fractional values. \n",
    "REAL                     Different types can be used depending on the floating point precision required for that value.\n",
    "                    \n",
    "CHARACTER(num_chars),    Both the CHARACTER and VARCHAR (variable character) types are specified with the max number of characters that                              they can store (longer values may be truncated), so can be more efficient to store and query with big tables.\n",
    "VARCHAR(num_chars), \n",
    "TEXT\t                 The text based datatypes can store strings and text in all sorts of locales. \n",
    "\n",
    "DATE, DATETIME\t         SQL can also store date and time stamps to keep track of time series and event data. \n",
    "\n",
    "BLOB\t                 SQL can store binary data in blobs. These values are often opaque to the database, so you usually have to store                            them with the right metadata to requery them."
   ]
  },
  {
   "cell_type": "raw",
   "id": "c2d5e240-83e7-4110-93b0-a6777513539b",
   "metadata": {},
   "source": [
    "                                                           Table constraints\n",
    "\n",
    "Constraint\t                                    Description\n",
    "PRIMARY KEY\t       This means that the values in this column are unique, and each value can be used to identify a single row in this table.\n",
    "\n",
    "AUTOINCREMENT\t   For integer values, this means that the value is automatically filled in and incremented with each row insertion. Not                      supported in all databases.\n",
    "\n",
    "UNIQUE\t           This means that the values in this column have to be unique, so you can't insert another row with the same value in this                    column as another row in the table. Differs from the `PRIMARY KEY` in that it doesn't have to be a key for a row in the                    table.\n",
    "\n",
    "NOT NULL\t       This means that the inserted value can not be `NULL`.\n",
    "\n",
    "CHECK (expression) This allows you to run a more complex expression to test whether the values inserted are valid. For example, you can                        check that values are positive, or greater than a specific size, or start with a certain prefix, etc.\n",
    "\n",
    "FOREIGN KEY\t       This is a consistency check which ensures that each value in this column corresponds to another value in a column in                        another table. For example, if there are two tables, one listing all Employees by ID, and another listing their payroll                    information, the `FOREIGN KEY` can ensure that every row in the payroll table corresponds to a valid employee in the                        master Employee list."
   ]
  },
  {
   "cell_type": "raw",
   "id": "66f0057c-87eb-41a0-ab1c-8f0d653079d7",
   "metadata": {},
   "source": [
    "Create a new table named Database with the following columns:\n",
    "– Name A string (text) describing the name of the database\n",
    "– Version A number (floating point) of the latest version of this database\n",
    "– Download_count An integer count of the number of times this database was downloaded\n",
    "This table has no constraints."
   ]
  },
  {
   "cell_type": "code",
   "execution_count": 10,
   "id": "25fe05ed-a103-4496-b5ff-cd09971670ad",
   "metadata": {},
   "outputs": [
    {
     "name": "stdout",
     "output_type": "stream",
     "text": [
      "Opened database successfully\n"
     ]
    }
   ],
   "source": [
    "import pandas as pd\n",
    "\n",
    "import sqlite3\n",
    "conn = sqlite3.connect('test.db')\n",
    "print(\"Opened database successfully\")"
   ]
  },
  {
   "cell_type": "code",
   "execution_count": 11,
   "id": "f8a1dd36-2676-48b9-bb76-7a76a0f75565",
   "metadata": {},
   "outputs": [
    {
     "name": "stdout",
     "output_type": "stream",
     "text": [
      "Table created Successfully\n"
     ]
    }
   ],
   "source": [
    "ret = conn.execute('''Create table if not exists database (\n",
    "    name text,\n",
    "    version float,\n",
    "    download_count integer);''')\n",
    "\n",
    "print(\"Table created Successfully\")"
   ]
  },
  {
   "cell_type": "code",
   "execution_count": 15,
   "id": "d31e0b33-b79f-4efd-a23f-9318f2234e70",
   "metadata": {},
   "outputs": [
    {
     "name": "stdout",
     "output_type": "stream",
     "text": [
      "('north_american_cities',)\n",
      "('movies',)\n",
      "('boxoffice',)\n",
      "('employeees',)\n",
      "('buildings',)\n",
      "('employees',)\n",
      "('database',)\n"
     ]
    }
   ],
   "source": [
    "ret = conn.execute('''SELECT name FROM sqlite_master\n",
    "    WHERE type='table';''')\n",
    "for r in ret:\n",
    "    print(r)"
   ]
  },
  {
   "cell_type": "code",
   "execution_count": 16,
   "id": "f9414664-0cb9-4afa-ad36-a0909ff07bee",
   "metadata": {},
   "outputs": [],
   "source": [
    "conn.close()"
   ]
  }
 ],
 "metadata": {
  "kernelspec": {
   "display_name": "Python 3 (ipykernel)",
   "language": "python",
   "name": "python3"
  },
  "language_info": {
   "codemirror_mode": {
    "name": "ipython",
    "version": 3
   },
   "file_extension": ".py",
   "mimetype": "text/x-python",
   "name": "python",
   "nbconvert_exporter": "python",
   "pygments_lexer": "ipython3",
   "version": "3.10.4"
  }
 },
 "nbformat": 4,
 "nbformat_minor": 5
}
