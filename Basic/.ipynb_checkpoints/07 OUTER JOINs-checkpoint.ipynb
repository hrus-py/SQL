{
 "cells": [
  {
   "cell_type": "raw",
   "id": "a4fa13d1-be4f-4d38-8a7b-9988c83acd10",
   "metadata": {},
   "source": [
    "Select query with LEFT/RIGHT/FULL JOINs on multiple tables\n",
    "SELECT column, another_column, …\n",
    "FROM mytable\n",
    "INNER/LEFT/RIGHT/FULL JOIN another_table \n",
    "    ON mytable.id = another_table.matching_id\n",
    "WHERE condition(s)\n",
    "ORDER BY column, … ASC/DESC\n",
    "LIMIT num_limit OFFSET num_offset;"
   ]
  },
  {
   "cell_type": "code",
   "execution_count": 1,
   "id": "d9339de3-2690-44f2-9138-78d0f6320a54",
   "metadata": {},
   "outputs": [],
   "source": [
    "import pandas as pd"
   ]
  },
  {
   "cell_type": "code",
   "execution_count": 2,
   "id": "e7ab77f2-790f-4b46-9c72-c1fc0b814894",
   "metadata": {},
   "outputs": [
    {
     "name": "stdout",
     "output_type": "stream",
     "text": [
      "Opened database successfully\n"
     ]
    }
   ],
   "source": [
    "import sqlite3\n",
    "conn = sqlite3.connect('test.db')\n",
    "print(\"Opened database successfully\")"
   ]
  },
  {
   "cell_type": "code",
   "execution_count": 3,
   "id": "b1660489-3379-4ed0-b2b7-733c536d7ccf",
   "metadata": {},
   "outputs": [
    {
     "name": "stdout",
     "output_type": "stream",
     "text": [
      "Table created Successfully\n"
     ]
    }
   ],
   "source": [
    "# Create Table\n",
    "conn.execute('''CREATE TABLE IF NOT EXISTS buildings\n",
    "         (building_name TEXT, \n",
    "         capacity INT);''')\n",
    "\n",
    "print(\"Table created Successfully\")"
   ]
  },
  {
   "cell_type": "code",
   "execution_count": 4,
   "id": "b3d5f2c7-5c83-444e-b724-d3b53d292f2f",
   "metadata": {},
   "outputs": [
    {
     "data": {
      "text/html": [
       "<div>\n",
       "<style scoped>\n",
       "    .dataframe tbody tr th:only-of-type {\n",
       "        vertical-align: middle;\n",
       "    }\n",
       "\n",
       "    .dataframe tbody tr th {\n",
       "        vertical-align: top;\n",
       "    }\n",
       "\n",
       "    .dataframe thead th {\n",
       "        text-align: right;\n",
       "    }\n",
       "</style>\n",
       "<table border=\"1\" class=\"dataframe\">\n",
       "  <thead>\n",
       "    <tr style=\"text-align: right;\">\n",
       "      <th></th>\n",
       "      <th>Building_name</th>\n",
       "      <th>Capacity</th>\n",
       "    </tr>\n",
       "  </thead>\n",
       "  <tbody>\n",
       "    <tr>\n",
       "      <th>0</th>\n",
       "      <td>1e</td>\n",
       "      <td>24</td>\n",
       "    </tr>\n",
       "    <tr>\n",
       "      <th>1</th>\n",
       "      <td>1w</td>\n",
       "      <td>32</td>\n",
       "    </tr>\n",
       "    <tr>\n",
       "      <th>2</th>\n",
       "      <td>2e</td>\n",
       "      <td>16</td>\n",
       "    </tr>\n",
       "    <tr>\n",
       "      <th>3</th>\n",
       "      <td>2w</td>\n",
       "      <td>20</td>\n",
       "    </tr>\n",
       "  </tbody>\n",
       "</table>\n",
       "</div>"
      ],
      "text/plain": [
       "  Building_name  Capacity\n",
       "0            1e        24\n",
       "1            1w        32\n",
       "2            2e        16\n",
       "3            2w        20"
      ]
     },
     "execution_count": 4,
     "metadata": {},
     "output_type": "execute_result"
    }
   ],
   "source": [
    "df = pd.read_csv('04_table_buildings.csv', sep='\\t')\n",
    "df.head()"
   ]
  },
  {
   "cell_type": "code",
   "execution_count": 5,
   "id": "3ad8bd91-e3a9-4aa5-84a4-56755ea54a02",
   "metadata": {},
   "outputs": [
    {
     "name": "stdout",
     "output_type": "stream",
     "text": [
      "4  Rows inserted into table\n"
     ]
    }
   ],
   "source": [
    "ret = df.to_sql('buildings', conn, if_exists='replace', index=False)\n",
    "print(ret, \" Rows inserted into table\")"
   ]
  },
  {
   "cell_type": "code",
   "execution_count": 6,
   "id": "82c5c678-fec7-4617-984d-4040b4920191",
   "metadata": {},
   "outputs": [
    {
     "name": "stdout",
     "output_type": "stream",
     "text": [
      "Table created Successfully\n"
     ]
    }
   ],
   "source": [
    "# Create Table\n",
    "conn.execute('''CREATE TABLE IF NOT EXISTS employees\n",
    "         (role TEXT,\n",
    "         name TEXT,\n",
    "         building TEXT,\n",
    "         years_employed int);''')\n",
    "\n",
    "print(\"Table created Successfully\")"
   ]
  },
  {
   "cell_type": "code",
   "execution_count": 7,
   "id": "df6997bc-0a1a-4cc5-88e2-5908b82b051a",
   "metadata": {},
   "outputs": [
    {
     "data": {
      "text/html": [
       "<div>\n",
       "<style scoped>\n",
       "    .dataframe tbody tr th:only-of-type {\n",
       "        vertical-align: middle;\n",
       "    }\n",
       "\n",
       "    .dataframe tbody tr th {\n",
       "        vertical-align: top;\n",
       "    }\n",
       "\n",
       "    .dataframe thead th {\n",
       "        text-align: right;\n",
       "    }\n",
       "</style>\n",
       "<table border=\"1\" class=\"dataframe\">\n",
       "  <thead>\n",
       "    <tr style=\"text-align: right;\">\n",
       "      <th></th>\n",
       "      <th>Role</th>\n",
       "      <th>Name</th>\n",
       "      <th>Building</th>\n",
       "      <th>Years_employed</th>\n",
       "    </tr>\n",
       "  </thead>\n",
       "  <tbody>\n",
       "    <tr>\n",
       "      <th>0</th>\n",
       "      <td>Engineer</td>\n",
       "      <td>Becky A.</td>\n",
       "      <td>1e</td>\n",
       "      <td>4</td>\n",
       "    </tr>\n",
       "    <tr>\n",
       "      <th>1</th>\n",
       "      <td>Engineer</td>\n",
       "      <td>Dan B.</td>\n",
       "      <td>1e</td>\n",
       "      <td>2</td>\n",
       "    </tr>\n",
       "    <tr>\n",
       "      <th>2</th>\n",
       "      <td>Engineer</td>\n",
       "      <td>Sharon F.</td>\n",
       "      <td>1e</td>\n",
       "      <td>6</td>\n",
       "    </tr>\n",
       "    <tr>\n",
       "      <th>3</th>\n",
       "      <td>Engineer</td>\n",
       "      <td>Dan M.</td>\n",
       "      <td>1e</td>\n",
       "      <td>4</td>\n",
       "    </tr>\n",
       "    <tr>\n",
       "      <th>4</th>\n",
       "      <td>Engineer</td>\n",
       "      <td>Malcom S.</td>\n",
       "      <td>1e</td>\n",
       "      <td>1</td>\n",
       "    </tr>\n",
       "  </tbody>\n",
       "</table>\n",
       "</div>"
      ],
      "text/plain": [
       "       Role       Name Building  Years_employed\n",
       "0  Engineer   Becky A.       1e               4\n",
       "1  Engineer     Dan B.       1e               2\n",
       "2  Engineer  Sharon F.       1e               6\n",
       "3  Engineer     Dan M.       1e               4\n",
       "4  Engineer  Malcom S.       1e               1"
      ]
     },
     "execution_count": 7,
     "metadata": {},
     "output_type": "execute_result"
    }
   ],
   "source": [
    "df = pd.read_csv('05_table_employees.csv', sep='\\t')\n",
    "df.head()"
   ]
  },
  {
   "cell_type": "code",
   "execution_count": 8,
   "id": "1a0fc828-bc7f-48b5-9631-be0f0eb38639",
   "metadata": {},
   "outputs": [
    {
     "name": "stdout",
     "output_type": "stream",
     "text": [
      "13  Rows inserted into table\n"
     ]
    }
   ],
   "source": [
    "ret = df.to_sql('employees', conn, if_exists='replace', index=False)\n",
    "print(ret, \" Rows inserted into table\")"
   ]
  },
  {
   "cell_type": "raw",
   "id": "d2a7f9a7-03b1-48d4-a6ea-ad0f809649f6",
   "metadata": {},
   "source": [
    "Find the list of all buildings that have employees "
   ]
  },
  {
   "cell_type": "code",
   "execution_count": 9,
   "id": "a1b64a57-b698-455d-a60c-66e0578e0218",
   "metadata": {},
   "outputs": [
    {
     "name": "stdout",
     "output_type": "stream",
     "text": [
      "('1e',)\n",
      "('2w',)\n"
     ]
    }
   ],
   "source": [
    "ret = conn.execute('''SELECT DISTINCT building FROM employees;''')\n",
    "for r in ret:\n",
    "    print(r)"
   ]
  },
  {
   "cell_type": "raw",
   "id": "61de1392-e1e6-4179-97c3-c99c56ee043b",
   "metadata": {},
   "source": [
    "List all buildings and the distinct employee roles in each building (including empty buildings) "
   ]
  },
  {
   "cell_type": "code",
   "execution_count": 10,
   "id": "6dfd5c63-3f35-495f-9d81-b75754efa5a8",
   "metadata": {},
   "outputs": [
    {
     "name": "stdout",
     "output_type": "stream",
     "text": [
      "('1e', 'Engineer')\n",
      "('1e', 'Manager')\n",
      "('1w', None)\n",
      "('2e', None)\n",
      "('2w', 'Artist')\n",
      "('2w', 'Manager')\n"
     ]
    }
   ],
   "source": [
    "ret = conn.execute('''SELECT DISTINCT building_name, role \n",
    "    FROM buildings \n",
    "    LEFT JOIN employees \n",
    "    ON building_name = building;''')\n",
    "for r in ret:\n",
    "    print(r)"
   ]
  },
  {
   "cell_type": "raw",
   "id": "98283c81-5848-46ef-a4c7-8a5e2ff1d9b5",
   "metadata": {},
   "source": [
    "Find the list of all buildings and their capacity"
   ]
  },
  {
   "cell_type": "code",
   "execution_count": 11,
   "id": "0d118943-5b35-49e6-9fd8-91975674afc4",
   "metadata": {},
   "outputs": [
    {
     "name": "stdout",
     "output_type": "stream",
     "text": [
      "('1e', 24)\n",
      "('1w', 32)\n",
      "('2e', 16)\n",
      "('2w', 20)\n"
     ]
    }
   ],
   "source": [
    "ret = conn.execute('''SELECT * FROM buildings''')\n",
    "for r in ret:\n",
    "    print(r)"
   ]
  },
  {
   "cell_type": "code",
   "execution_count": null,
   "id": "10aed99e-3fa2-4891-9131-4a22ab8e0de5",
   "metadata": {},
   "outputs": [],
   "source": [
    "conn.close()"
   ]
  }
 ],
 "metadata": {
  "kernelspec": {
   "display_name": "Python 3 (ipykernel)",
   "language": "python",
   "name": "python3"
  },
  "language_info": {
   "codemirror_mode": {
    "name": "ipython",
    "version": 3
   },
   "file_extension": ".py",
   "mimetype": "text/x-python",
   "name": "python",
   "nbconvert_exporter": "python",
   "pygments_lexer": "ipython3",
   "version": "3.10.4"
  }
 },
 "nbformat": 4,
 "nbformat_minor": 5
}
